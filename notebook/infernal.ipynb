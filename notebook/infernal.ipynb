{
 "cells": [
  {
   "cell_type": "code",
   "execution_count": 1,
   "id": "moral-lottery",
   "metadata": {},
   "outputs": [],
   "source": [
    "import pandas as pd\n",
    "import math\n",
    "import plotly.express as px"
   ]
  },
  {
   "cell_type": "code",
   "execution_count": 36,
   "id": "removable-principle",
   "metadata": {},
   "outputs": [],
   "source": [
    "#Nome das colunas \n",
    "colunas = ['targetname', 'accession', 'queryname', 'rfamid', 'mdl', 'mdlfrom', 'mdlto', 'seqfrom', 'seqto', 'strand', 'trunc', 'pass', 'gc', 'bias', 'score', 'evalue', 'inc', 'desc']"
   ]
  },
  {
   "cell_type": "code",
   "execution_count": 37,
   "id": "subtle-disposal",
   "metadata": {},
   "outputs": [],
   "source": [
    "path = '/home/linocesar/Documentos/infernal/resultados/'"
   ]
  },
  {
   "cell_type": "code",
   "execution_count": 38,
   "id": "italian-mobility",
   "metadata": {},
   "outputs": [],
   "source": [
    "def getFilter(threshould: str):\n",
    "    if threshould == 'evalue':\n",
    "        #Resultados do cmsearch coms os parâmetros: rfam e E igual a 0.00001\n",
    "        return 'result-evalue.tab'\n",
    "    else:\n",
    "        #Resultados do cmsearch com os parâmetros: rfam e cut_ga\n",
    "        return 'result-cutga.tab'"
   ]
  },
  {
   "cell_type": "code",
   "execution_count": 39,
   "id": "prospective-procedure",
   "metadata": {},
   "outputs": [],
   "source": [
    "filtro = \"cut_ga\"\n",
    "filename = path + getFilter(filtro)"
   ]
  },
  {
   "cell_type": "code",
   "execution_count": 40,
   "id": "normal-boxing",
   "metadata": {},
   "outputs": [],
   "source": [
    "dados = pd.read_csv(filename, delimiter=r\"\\s+\", names=colunas, header=None)"
   ]
  },
  {
   "cell_type": "code",
   "execution_count": 41,
   "id": "lyric-shirt",
   "metadata": {},
   "outputs": [
    {
     "data": {
      "text/html": [
       "<div>\n",
       "<style scoped>\n",
       "    .dataframe tbody tr th:only-of-type {\n",
       "        vertical-align: middle;\n",
       "    }\n",
       "\n",
       "    .dataframe tbody tr th {\n",
       "        vertical-align: top;\n",
       "    }\n",
       "\n",
       "    .dataframe thead th {\n",
       "        text-align: right;\n",
       "    }\n",
       "</style>\n",
       "<table border=\"1\" class=\"dataframe\">\n",
       "  <thead>\n",
       "    <tr style=\"text-align: right;\">\n",
       "      <th></th>\n",
       "      <th>targetname</th>\n",
       "      <th>accession</th>\n",
       "      <th>queryname</th>\n",
       "      <th>rfamid</th>\n",
       "      <th>mdl</th>\n",
       "      <th>mdlfrom</th>\n",
       "      <th>mdlto</th>\n",
       "      <th>seqfrom</th>\n",
       "      <th>seqto</th>\n",
       "      <th>strand</th>\n",
       "      <th>trunc</th>\n",
       "      <th>pass</th>\n",
       "      <th>gc</th>\n",
       "      <th>bias</th>\n",
       "      <th>score</th>\n",
       "      <th>evalue</th>\n",
       "      <th>inc</th>\n",
       "      <th>desc</th>\n",
       "    </tr>\n",
       "  </thead>\n",
       "  <tbody>\n",
       "    <tr>\n",
       "      <th>0</th>\n",
       "      <td>E_sibiricum_255-15</td>\n",
       "      <td>-</td>\n",
       "      <td>RNaseP_bact_b</td>\n",
       "      <td>RF00011</td>\n",
       "      <td>cm</td>\n",
       "      <td>1</td>\n",
       "      <td>366</td>\n",
       "      <td>1294210</td>\n",
       "      <td>1294583</td>\n",
       "      <td>+</td>\n",
       "      <td>no</td>\n",
       "      <td>1</td>\n",
       "      <td>0.51</td>\n",
       "      <td>0.0</td>\n",
       "      <td>315.7</td>\n",
       "      <td>9.700000e-92</td>\n",
       "      <td>!</td>\n",
       "      <td>-</td>\n",
       "    </tr>\n",
       "    <tr>\n",
       "      <th>1</th>\n",
       "      <td>E_antarcticum_dsm14480</td>\n",
       "      <td>-</td>\n",
       "      <td>RNaseP_bact_b</td>\n",
       "      <td>RF00011</td>\n",
       "      <td>cm</td>\n",
       "      <td>1</td>\n",
       "      <td>366</td>\n",
       "      <td>99389</td>\n",
       "      <td>99016</td>\n",
       "      <td>-</td>\n",
       "      <td>no</td>\n",
       "      <td>1</td>\n",
       "      <td>0.51</td>\n",
       "      <td>0.0</td>\n",
       "      <td>315.7</td>\n",
       "      <td>9.700000e-92</td>\n",
       "      <td>!</td>\n",
       "      <td>-</td>\n",
       "    </tr>\n",
       "    <tr>\n",
       "      <th>2</th>\n",
       "      <td>E_sp_U13-1</td>\n",
       "      <td>-</td>\n",
       "      <td>RNaseP_bact_b</td>\n",
       "      <td>RF00011</td>\n",
       "      <td>cm</td>\n",
       "      <td>1</td>\n",
       "      <td>366</td>\n",
       "      <td>1754399</td>\n",
       "      <td>1754772</td>\n",
       "      <td>+</td>\n",
       "      <td>no</td>\n",
       "      <td>1</td>\n",
       "      <td>0.52</td>\n",
       "      <td>0.1</td>\n",
       "      <td>314.5</td>\n",
       "      <td>2.300000e-91</td>\n",
       "      <td>!</td>\n",
       "      <td>-</td>\n",
       "    </tr>\n",
       "    <tr>\n",
       "      <th>3</th>\n",
       "      <td>E_indicum_HHS_31</td>\n",
       "      <td>-</td>\n",
       "      <td>RNaseP_bact_b</td>\n",
       "      <td>RF00011</td>\n",
       "      <td>cm</td>\n",
       "      <td>1</td>\n",
       "      <td>366</td>\n",
       "      <td>915484</td>\n",
       "      <td>915857</td>\n",
       "      <td>+</td>\n",
       "      <td>no</td>\n",
       "      <td>1</td>\n",
       "      <td>0.52</td>\n",
       "      <td>0.1</td>\n",
       "      <td>314.5</td>\n",
       "      <td>2.300000e-91</td>\n",
       "      <td>!</td>\n",
       "      <td>-</td>\n",
       "    </tr>\n",
       "    <tr>\n",
       "      <th>4</th>\n",
       "      <td>E_sp_MH3</td>\n",
       "      <td>-</td>\n",
       "      <td>RNaseP_bact_b</td>\n",
       "      <td>RF00011</td>\n",
       "      <td>cm</td>\n",
       "      <td>1</td>\n",
       "      <td>366</td>\n",
       "      <td>1265112</td>\n",
       "      <td>1265485</td>\n",
       "      <td>+</td>\n",
       "      <td>no</td>\n",
       "      <td>1</td>\n",
       "      <td>0.51</td>\n",
       "      <td>0.1</td>\n",
       "      <td>313.5</td>\n",
       "      <td>4.600000e-91</td>\n",
       "      <td>!</td>\n",
       "      <td>-</td>\n",
       "    </tr>\n",
       "    <tr>\n",
       "      <th>5</th>\n",
       "      <td>E_enclense_NIO-1109</td>\n",
       "      <td>-</td>\n",
       "      <td>RNaseP_bact_b</td>\n",
       "      <td>RF00011</td>\n",
       "      <td>cm</td>\n",
       "      <td>1</td>\n",
       "      <td>366</td>\n",
       "      <td>1876169</td>\n",
       "      <td>1876542</td>\n",
       "      <td>+</td>\n",
       "      <td>no</td>\n",
       "      <td>1</td>\n",
       "      <td>0.52</td>\n",
       "      <td>0.1</td>\n",
       "      <td>312.6</td>\n",
       "      <td>8.700000e-91</td>\n",
       "      <td>!</td>\n",
       "      <td>-</td>\n",
       "    </tr>\n",
       "    <tr>\n",
       "      <th>6</th>\n",
       "      <td>E_sp_ZWU0009_fita</td>\n",
       "      <td>-</td>\n",
       "      <td>RNaseP_bact_b</td>\n",
       "      <td>RF00011</td>\n",
       "      <td>cm</td>\n",
       "      <td>1</td>\n",
       "      <td>366</td>\n",
       "      <td>1332745</td>\n",
       "      <td>1333118</td>\n",
       "      <td>+</td>\n",
       "      <td>no</td>\n",
       "      <td>1</td>\n",
       "      <td>0.52</td>\n",
       "      <td>0.2</td>\n",
       "      <td>312.5</td>\n",
       "      <td>9.200000e-91</td>\n",
       "      <td>!</td>\n",
       "      <td>-</td>\n",
       "    </tr>\n",
       "    <tr>\n",
       "      <th>7</th>\n",
       "      <td>E_acetylicum_DSM_20416</td>\n",
       "      <td>-</td>\n",
       "      <td>RNaseP_bact_b</td>\n",
       "      <td>RF00011</td>\n",
       "      <td>cm</td>\n",
       "      <td>1</td>\n",
       "      <td>366</td>\n",
       "      <td>862574</td>\n",
       "      <td>862947</td>\n",
       "      <td>+</td>\n",
       "      <td>no</td>\n",
       "      <td>1</td>\n",
       "      <td>0.52</td>\n",
       "      <td>0.2</td>\n",
       "      <td>312.5</td>\n",
       "      <td>9.200000e-91</td>\n",
       "      <td>!</td>\n",
       "      <td>-</td>\n",
       "    </tr>\n",
       "    <tr>\n",
       "      <th>8</th>\n",
       "      <td>E_marinum_DSM_16307</td>\n",
       "      <td>-</td>\n",
       "      <td>RNaseP_bact_b</td>\n",
       "      <td>RF00011</td>\n",
       "      <td>cm</td>\n",
       "      <td>1</td>\n",
       "      <td>366</td>\n",
       "      <td>1730053</td>\n",
       "      <td>1730420</td>\n",
       "      <td>+</td>\n",
       "      <td>no</td>\n",
       "      <td>1</td>\n",
       "      <td>0.52</td>\n",
       "      <td>0.1</td>\n",
       "      <td>312.2</td>\n",
       "      <td>1.100000e-90</td>\n",
       "      <td>!</td>\n",
       "      <td>-</td>\n",
       "    </tr>\n",
       "    <tr>\n",
       "      <th>9</th>\n",
       "      <td>Ealkaliphilum_12_1</td>\n",
       "      <td>-</td>\n",
       "      <td>RNaseP_bact_b</td>\n",
       "      <td>RF00011</td>\n",
       "      <td>cm</td>\n",
       "      <td>1</td>\n",
       "      <td>366</td>\n",
       "      <td>545639</td>\n",
       "      <td>546006</td>\n",
       "      <td>+</td>\n",
       "      <td>no</td>\n",
       "      <td>1</td>\n",
       "      <td>0.55</td>\n",
       "      <td>0.4</td>\n",
       "      <td>310.2</td>\n",
       "      <td>4.500000e-90</td>\n",
       "      <td>!</td>\n",
       "      <td>-</td>\n",
       "    </tr>\n",
       "  </tbody>\n",
       "</table>\n",
       "</div>"
      ],
      "text/plain": [
       "               targetname accession      queryname   rfamid mdl  mdlfrom  \\\n",
       "0      E_sibiricum_255-15         -  RNaseP_bact_b  RF00011  cm        1   \n",
       "1  E_antarcticum_dsm14480         -  RNaseP_bact_b  RF00011  cm        1   \n",
       "2              E_sp_U13-1         -  RNaseP_bact_b  RF00011  cm        1   \n",
       "3        E_indicum_HHS_31         -  RNaseP_bact_b  RF00011  cm        1   \n",
       "4                E_sp_MH3         -  RNaseP_bact_b  RF00011  cm        1   \n",
       "5     E_enclense_NIO-1109         -  RNaseP_bact_b  RF00011  cm        1   \n",
       "6       E_sp_ZWU0009_fita         -  RNaseP_bact_b  RF00011  cm        1   \n",
       "7  E_acetylicum_DSM_20416         -  RNaseP_bact_b  RF00011  cm        1   \n",
       "8     E_marinum_DSM_16307         -  RNaseP_bact_b  RF00011  cm        1   \n",
       "9      Ealkaliphilum_12_1         -  RNaseP_bact_b  RF00011  cm        1   \n",
       "\n",
       "   mdlto  seqfrom    seqto strand trunc  pass    gc  bias  score  \\\n",
       "0    366  1294210  1294583      +    no     1  0.51   0.0  315.7   \n",
       "1    366    99389    99016      -    no     1  0.51   0.0  315.7   \n",
       "2    366  1754399  1754772      +    no     1  0.52   0.1  314.5   \n",
       "3    366   915484   915857      +    no     1  0.52   0.1  314.5   \n",
       "4    366  1265112  1265485      +    no     1  0.51   0.1  313.5   \n",
       "5    366  1876169  1876542      +    no     1  0.52   0.1  312.6   \n",
       "6    366  1332745  1333118      +    no     1  0.52   0.2  312.5   \n",
       "7    366   862574   862947      +    no     1  0.52   0.2  312.5   \n",
       "8    366  1730053  1730420      +    no     1  0.52   0.1  312.2   \n",
       "9    366   545639   546006      +    no     1  0.55   0.4  310.2   \n",
       "\n",
       "         evalue inc desc  \n",
       "0  9.700000e-92   !    -  \n",
       "1  9.700000e-92   !    -  \n",
       "2  2.300000e-91   !    -  \n",
       "3  2.300000e-91   !    -  \n",
       "4  4.600000e-91   !    -  \n",
       "5  8.700000e-91   !    -  \n",
       "6  9.200000e-91   !    -  \n",
       "7  9.200000e-91   !    -  \n",
       "8  1.100000e-90   !    -  \n",
       "9  4.500000e-90   !    -  "
      ]
     },
     "execution_count": 41,
     "metadata": {},
     "output_type": "execute_result"
    }
   ],
   "source": [
    "dados.head(10)"
   ]
  },
  {
   "cell_type": "code",
   "execution_count": 42,
   "id": "entire-adelaide",
   "metadata": {},
   "outputs": [],
   "source": [
    "dados = dados[['targetname', 'queryname', 'rfamid', 'score', 'evalue', 'seqfrom', 'seqto', 'strand']]"
   ]
  },
  {
   "cell_type": "code",
   "execution_count": 43,
   "id": "reserved-papua",
   "metadata": {},
   "outputs": [],
   "source": [
    "cepas = dados['targetname'].unique()"
   ]
  },
  {
   "cell_type": "code",
   "execution_count": 44,
   "id": "vietnamese-daniel",
   "metadata": {},
   "outputs": [
    {
     "name": "stdout",
     "output_type": "stream",
     "text": [
      "Número de cepas: 16\n",
      "E_sibiricum_255-15\n",
      "E_antarcticum_dsm14480\n",
      "E_sp_U13-1\n",
      "E_indicum_HHS_31\n",
      "E_sp_MH3\n",
      "E_enclense_NIO-1109\n",
      "E_sp_ZWU0009_fita\n",
      "E_acetylicum_DSM_20416\n",
      "E_marinum_DSM_16307\n",
      "Ealkaliphilum_12_1\n",
      "E_oxidotolerans_JCM_12280\n",
      "Echiriqhuca\n",
      "Emexicanum\n",
      "E_sp_AT1b\n",
      "E_profundum_PHM_11\n",
      "Eaurantiacum\n"
     ]
    }
   ],
   "source": [
    "print(f'Número de cepas: {cepas.size}')\n",
    "for c in cepas:\n",
    "    print(c)"
   ]
  },
  {
   "cell_type": "code",
   "execution_count": 45,
   "id": "oriental-remedy",
   "metadata": {
    "scrolled": true
   },
   "outputs": [
    {
     "name": "stdout",
     "output_type": "stream",
     "text": [
      "Quantidade de small RNAs únicas preditas: 38\n"
     ]
    }
   ],
   "source": [
    "rna = dados.queryname.unique()\n",
    "rfamid = dados.rfamid.unique()\n",
    "print(f'Quantidade de small RNAs únicas preditas: {rna.size}')\n",
    "\n",
    "df_small = pd.DataFrame({'small': rna, 'rfam_id': rfamid})\n",
    "df_small.sort_values('rfam_id').head(51)\n",
    "df_small.to_csv('/home/linocesar/Documentos/infernal/resultados/lista-rnas-' + filtro + '.csv', index=False)"
   ]
  },
  {
   "cell_type": "code",
   "execution_count": 46,
   "id": "involved-praise",
   "metadata": {},
   "outputs": [],
   "source": [
    "def tamanhoFita(inicial, final):\n",
    "    return int(math.fabs(final - inicial) + 1)"
   ]
  },
  {
   "cell_type": "code",
   "execution_count": 47,
   "id": "driving-amino",
   "metadata": {},
   "outputs": [],
   "source": [
    "#Calculando o tamanho das sequências dos sRNAs\n",
    "dados['seqlen'] = list(map(lambda x,y: tamanhoFita(x,y), dados.seqfrom, dados.seqto))"
   ]
  },
  {
   "cell_type": "code",
   "execution_count": 71,
   "id": "boolean-greece",
   "metadata": {},
   "outputs": [
    {
     "name": "stdout",
     "output_type": "stream",
     "text": [
      "Número de sRNA preditas: 887\n"
     ]
    }
   ],
   "source": [
    "print(f'Número de sRNA preditas: {dados.shape[0]}')"
   ]
  },
  {
   "cell_type": "code",
   "execution_count": 49,
   "id": "green-optimization",
   "metadata": {},
   "outputs": [
    {
     "data": {
      "text/html": [
       "<div>\n",
       "<style scoped>\n",
       "    .dataframe tbody tr th:only-of-type {\n",
       "        vertical-align: middle;\n",
       "    }\n",
       "\n",
       "    .dataframe tbody tr th {\n",
       "        vertical-align: top;\n",
       "    }\n",
       "\n",
       "    .dataframe thead th {\n",
       "        text-align: right;\n",
       "    }\n",
       "</style>\n",
       "<table border=\"1\" class=\"dataframe\">\n",
       "  <thead>\n",
       "    <tr style=\"text-align: right;\">\n",
       "      <th></th>\n",
       "      <th>targetname</th>\n",
       "      <th>queryname</th>\n",
       "      <th>rfamid</th>\n",
       "      <th>score</th>\n",
       "      <th>evalue</th>\n",
       "      <th>seqfrom</th>\n",
       "      <th>seqto</th>\n",
       "      <th>strand</th>\n",
       "      <th>seqlen</th>\n",
       "    </tr>\n",
       "  </thead>\n",
       "  <tbody>\n",
       "    <tr>\n",
       "      <th>882</th>\n",
       "      <td>E_sp_MH3</td>\n",
       "      <td>c-di-GMP-I-GGC</td>\n",
       "      <td>RF03167</td>\n",
       "      <td>55.2</td>\n",
       "      <td>1.700000e-10</td>\n",
       "      <td>2678333</td>\n",
       "      <td>2678417</td>\n",
       "      <td>+</td>\n",
       "      <td>85</td>\n",
       "    </tr>\n",
       "    <tr>\n",
       "      <th>883</th>\n",
       "      <td>E_enclense_NIO-1109</td>\n",
       "      <td>c-di-GMP-I-GGC</td>\n",
       "      <td>RF03167</td>\n",
       "      <td>55.2</td>\n",
       "      <td>1.700000e-10</td>\n",
       "      <td>216206</td>\n",
       "      <td>216122</td>\n",
       "      <td>-</td>\n",
       "      <td>85</td>\n",
       "    </tr>\n",
       "    <tr>\n",
       "      <th>884</th>\n",
       "      <td>E_indicum_HHS_31</td>\n",
       "      <td>c-di-GMP-I-GGC</td>\n",
       "      <td>RF03167</td>\n",
       "      <td>55.2</td>\n",
       "      <td>1.700000e-10</td>\n",
       "      <td>2851059</td>\n",
       "      <td>2851143</td>\n",
       "      <td>+</td>\n",
       "      <td>85</td>\n",
       "    </tr>\n",
       "    <tr>\n",
       "      <th>885</th>\n",
       "      <td>E_oxidotolerans_JCM_12280</td>\n",
       "      <td>c-di-GMP-I-GGC</td>\n",
       "      <td>RF03167</td>\n",
       "      <td>55.1</td>\n",
       "      <td>1.800000e-10</td>\n",
       "      <td>1142971</td>\n",
       "      <td>1143055</td>\n",
       "      <td>+</td>\n",
       "      <td>85</td>\n",
       "    </tr>\n",
       "    <tr>\n",
       "      <th>886</th>\n",
       "      <td>Ealkaliphilum_12_1</td>\n",
       "      <td>c-di-GMP-II-GAG</td>\n",
       "      <td>RF03169</td>\n",
       "      <td>40.5</td>\n",
       "      <td>1.300000e-05</td>\n",
       "      <td>1820051</td>\n",
       "      <td>1820135</td>\n",
       "      <td>+</td>\n",
       "      <td>85</td>\n",
       "    </tr>\n",
       "  </tbody>\n",
       "</table>\n",
       "</div>"
      ],
      "text/plain": [
       "                    targetname        queryname   rfamid  score        evalue  \\\n",
       "882                   E_sp_MH3   c-di-GMP-I-GGC  RF03167   55.2  1.700000e-10   \n",
       "883        E_enclense_NIO-1109   c-di-GMP-I-GGC  RF03167   55.2  1.700000e-10   \n",
       "884           E_indicum_HHS_31   c-di-GMP-I-GGC  RF03167   55.2  1.700000e-10   \n",
       "885  E_oxidotolerans_JCM_12280   c-di-GMP-I-GGC  RF03167   55.1  1.800000e-10   \n",
       "886         Ealkaliphilum_12_1  c-di-GMP-II-GAG  RF03169   40.5  1.300000e-05   \n",
       "\n",
       "     seqfrom    seqto strand  seqlen  \n",
       "882  2678333  2678417      +      85  \n",
       "883   216206   216122      -      85  \n",
       "884  2851059  2851143      +      85  \n",
       "885  1142971  1143055      +      85  \n",
       "886  1820051  1820135      +      85  "
      ]
     },
     "execution_count": 49,
     "metadata": {},
     "output_type": "execute_result"
    }
   ],
   "source": [
    "dados.tail()"
   ]
  },
  {
   "cell_type": "markdown",
   "id": "pressing-beijing",
   "metadata": {},
   "source": [
    "### Resultados com sequências de tamanho entre 50 a 500pb e com scores maiores ou igual a 50.0"
   ]
  },
  {
   "cell_type": "code",
   "execution_count": 50,
   "id": "frank-service",
   "metadata": {},
   "outputs": [],
   "source": [
    "dados_filtrados = dados[(dados.seqlen >= 50) & (dados.seqlen <= 500) & (dados.score >= 50)]"
   ]
  },
  {
   "cell_type": "code",
   "execution_count": 51,
   "id": "vanilla-deployment",
   "metadata": {},
   "outputs": [],
   "source": [
    "dados_filtrados.to_csv('/home/linocesar/Documentos/infernal/resultados/resultados-filtrados-' + filtro + '.csv',index=False)"
   ]
  },
  {
   "cell_type": "code",
   "execution_count": 52,
   "id": "simple-soviet",
   "metadata": {},
   "outputs": [
    {
     "data": {
      "text/html": [
       "<div>\n",
       "<style scoped>\n",
       "    .dataframe tbody tr th:only-of-type {\n",
       "        vertical-align: middle;\n",
       "    }\n",
       "\n",
       "    .dataframe tbody tr th {\n",
       "        vertical-align: top;\n",
       "    }\n",
       "\n",
       "    .dataframe thead th {\n",
       "        text-align: right;\n",
       "    }\n",
       "</style>\n",
       "<table border=\"1\" class=\"dataframe\">\n",
       "  <thead>\n",
       "    <tr style=\"text-align: right;\">\n",
       "      <th></th>\n",
       "      <th>targetname</th>\n",
       "      <th>queryname</th>\n",
       "      <th>rfamid</th>\n",
       "      <th>score</th>\n",
       "      <th>evalue</th>\n",
       "      <th>seqfrom</th>\n",
       "      <th>seqto</th>\n",
       "      <th>strand</th>\n",
       "      <th>seqlen</th>\n",
       "    </tr>\n",
       "  </thead>\n",
       "  <tbody>\n",
       "    <tr>\n",
       "      <th>872</th>\n",
       "      <td>Eaurantiacum</td>\n",
       "      <td>NiCo</td>\n",
       "      <td>RF02683</td>\n",
       "      <td>62.5</td>\n",
       "      <td>1.000000e-11</td>\n",
       "      <td>3026704</td>\n",
       "      <td>3026596</td>\n",
       "      <td>-</td>\n",
       "      <td>109</td>\n",
       "    </tr>\n",
       "    <tr>\n",
       "      <th>882</th>\n",
       "      <td>E_sp_MH3</td>\n",
       "      <td>c-di-GMP-I-GGC</td>\n",
       "      <td>RF03167</td>\n",
       "      <td>55.2</td>\n",
       "      <td>1.700000e-10</td>\n",
       "      <td>2678333</td>\n",
       "      <td>2678417</td>\n",
       "      <td>+</td>\n",
       "      <td>85</td>\n",
       "    </tr>\n",
       "    <tr>\n",
       "      <th>883</th>\n",
       "      <td>E_enclense_NIO-1109</td>\n",
       "      <td>c-di-GMP-I-GGC</td>\n",
       "      <td>RF03167</td>\n",
       "      <td>55.2</td>\n",
       "      <td>1.700000e-10</td>\n",
       "      <td>216206</td>\n",
       "      <td>216122</td>\n",
       "      <td>-</td>\n",
       "      <td>85</td>\n",
       "    </tr>\n",
       "    <tr>\n",
       "      <th>884</th>\n",
       "      <td>E_indicum_HHS_31</td>\n",
       "      <td>c-di-GMP-I-GGC</td>\n",
       "      <td>RF03167</td>\n",
       "      <td>55.2</td>\n",
       "      <td>1.700000e-10</td>\n",
       "      <td>2851059</td>\n",
       "      <td>2851143</td>\n",
       "      <td>+</td>\n",
       "      <td>85</td>\n",
       "    </tr>\n",
       "    <tr>\n",
       "      <th>885</th>\n",
       "      <td>E_oxidotolerans_JCM_12280</td>\n",
       "      <td>c-di-GMP-I-GGC</td>\n",
       "      <td>RF03167</td>\n",
       "      <td>55.1</td>\n",
       "      <td>1.800000e-10</td>\n",
       "      <td>1142971</td>\n",
       "      <td>1143055</td>\n",
       "      <td>+</td>\n",
       "      <td>85</td>\n",
       "    </tr>\n",
       "  </tbody>\n",
       "</table>\n",
       "</div>"
      ],
      "text/plain": [
       "                    targetname       queryname   rfamid  score        evalue  \\\n",
       "872               Eaurantiacum            NiCo  RF02683   62.5  1.000000e-11   \n",
       "882                   E_sp_MH3  c-di-GMP-I-GGC  RF03167   55.2  1.700000e-10   \n",
       "883        E_enclense_NIO-1109  c-di-GMP-I-GGC  RF03167   55.2  1.700000e-10   \n",
       "884           E_indicum_HHS_31  c-di-GMP-I-GGC  RF03167   55.2  1.700000e-10   \n",
       "885  E_oxidotolerans_JCM_12280  c-di-GMP-I-GGC  RF03167   55.1  1.800000e-10   \n",
       "\n",
       "     seqfrom    seqto strand  seqlen  \n",
       "872  3026704  3026596      -     109  \n",
       "882  2678333  2678417      +      85  \n",
       "883   216206   216122      -      85  \n",
       "884  2851059  2851143      +      85  \n",
       "885  1142971  1143055      +      85  "
      ]
     },
     "execution_count": 52,
     "metadata": {},
     "output_type": "execute_result"
    }
   ],
   "source": [
    "dados_filtrados.tail()"
   ]
  },
  {
   "cell_type": "code",
   "execution_count": 53,
   "id": "facial-duncan",
   "metadata": {},
   "outputs": [
    {
     "name": "stdout",
     "output_type": "stream",
     "text": [
      "Número de resultados/linhas: 855\n"
     ]
    }
   ],
   "source": [
    "print(f'Número de resultados/linhas: {dados_filtrados.shape[0]}')"
   ]
  },
  {
   "cell_type": "markdown",
   "id": "known-directive",
   "metadata": {},
   "source": [
    "### Agrupando por target name e query name"
   ]
  },
  {
   "cell_type": "code",
   "execution_count": 54,
   "id": "about-louisville",
   "metadata": {},
   "outputs": [],
   "source": [
    "dados_agrupados =  dados_filtrados.groupby(['targetname', 'queryname'])['queryname'].agg(['count'])\n",
    "dados_agrupados.reset_index(inplace=True)\n",
    "dados_agrupados.rename(columns={'count':'freq'}, inplace=True)"
   ]
  },
  {
   "cell_type": "code",
   "execution_count": 55,
   "id": "standard-adult",
   "metadata": {},
   "outputs": [
    {
     "name": "stdout",
     "output_type": "stream",
     "text": [
      "Quantidade de resultados: 320\n"
     ]
    }
   ],
   "source": [
    "print(f\"Quantidade de resultados: {dados_agrupados.shape[0]}\")"
   ]
  },
  {
   "cell_type": "code",
   "execution_count": 56,
   "id": "color-right",
   "metadata": {},
   "outputs": [],
   "source": [
    "#Ordenando resultados de maior frequência para menor\n",
    "ordenados = dados_agrupados.sort_values('freq', ascending=False)"
   ]
  },
  {
   "cell_type": "code",
   "execution_count": 57,
   "id": "latin-danish",
   "metadata": {},
   "outputs": [
    {
     "data": {
      "text/html": [
       "<div>\n",
       "<style scoped>\n",
       "    .dataframe tbody tr th:only-of-type {\n",
       "        vertical-align: middle;\n",
       "    }\n",
       "\n",
       "    .dataframe tbody tr th {\n",
       "        vertical-align: top;\n",
       "    }\n",
       "\n",
       "    .dataframe thead th {\n",
       "        text-align: right;\n",
       "    }\n",
       "</style>\n",
       "<table border=\"1\" class=\"dataframe\">\n",
       "  <thead>\n",
       "    <tr style=\"text-align: right;\">\n",
       "      <th></th>\n",
       "      <th>targetname</th>\n",
       "      <th>queryname</th>\n",
       "      <th>freq</th>\n",
       "    </tr>\n",
       "  </thead>\n",
       "  <tbody>\n",
       "    <tr>\n",
       "      <th>13</th>\n",
       "      <td>E_acetylicum_DSM_20416</td>\n",
       "      <td>T-box</td>\n",
       "      <td>17</td>\n",
       "    </tr>\n",
       "    <tr>\n",
       "      <th>214</th>\n",
       "      <td>E_sp_U13-1</td>\n",
       "      <td>T-box</td>\n",
       "      <td>17</td>\n",
       "    </tr>\n",
       "    <tr>\n",
       "      <th>192</th>\n",
       "      <td>E_sp_MH3</td>\n",
       "      <td>T-box</td>\n",
       "      <td>17</td>\n",
       "    </tr>\n",
       "    <tr>\n",
       "      <th>52</th>\n",
       "      <td>E_enclense_NIO-1109</td>\n",
       "      <td>T-box</td>\n",
       "      <td>16</td>\n",
       "    </tr>\n",
       "    <tr>\n",
       "      <th>90</th>\n",
       "      <td>E_marinum_DSM_16307</td>\n",
       "      <td>T-box</td>\n",
       "      <td>16</td>\n",
       "    </tr>\n",
       "  </tbody>\n",
       "</table>\n",
       "</div>"
      ],
      "text/plain": [
       "                 targetname queryname  freq\n",
       "13   E_acetylicum_DSM_20416     T-box    17\n",
       "214              E_sp_U13-1     T-box    17\n",
       "192                E_sp_MH3     T-box    17\n",
       "52      E_enclense_NIO-1109     T-box    16\n",
       "90      E_marinum_DSM_16307     T-box    16"
      ]
     },
     "execution_count": 57,
     "metadata": {},
     "output_type": "execute_result"
    }
   ],
   "source": [
    "ordenados.head()"
   ]
  },
  {
   "cell_type": "code",
   "execution_count": 58,
   "id": "foreign-contributor",
   "metadata": {},
   "outputs": [],
   "source": [
    "#Filtrando os resultados com contagem de sRNa por exiguobaterium maior ou igual a 5.\n",
    "ordenados = ordenados[ordenados.freq >= 5]"
   ]
  },
  {
   "cell_type": "code",
   "execution_count": 59,
   "id": "impressed-requirement",
   "metadata": {},
   "outputs": [
    {
     "data": {
      "text/html": [
       "<div>\n",
       "<style scoped>\n",
       "    .dataframe tbody tr th:only-of-type {\n",
       "        vertical-align: middle;\n",
       "    }\n",
       "\n",
       "    .dataframe tbody tr th {\n",
       "        vertical-align: top;\n",
       "    }\n",
       "\n",
       "    .dataframe thead th {\n",
       "        text-align: right;\n",
       "    }\n",
       "</style>\n",
       "<table border=\"1\" class=\"dataframe\">\n",
       "  <thead>\n",
       "    <tr style=\"text-align: right;\">\n",
       "      <th></th>\n",
       "      <th>targetname</th>\n",
       "      <th>queryname</th>\n",
       "      <th>freq</th>\n",
       "    </tr>\n",
       "  </thead>\n",
       "  <tbody>\n",
       "    <tr>\n",
       "      <th>274</th>\n",
       "      <td>Eaurantiacum</td>\n",
       "      <td>TPP</td>\n",
       "      <td>5</td>\n",
       "    </tr>\n",
       "    <tr>\n",
       "      <th>234</th>\n",
       "      <td>E_sp_ZWU0009_fita</td>\n",
       "      <td>TPP</td>\n",
       "      <td>5</td>\n",
       "    </tr>\n",
       "    <tr>\n",
       "      <th>31</th>\n",
       "      <td>E_antarcticum_dsm14480</td>\n",
       "      <td>Purine</td>\n",
       "      <td>5</td>\n",
       "    </tr>\n",
       "    <tr>\n",
       "      <th>157</th>\n",
       "      <td>E_sibiricum_255-15</td>\n",
       "      <td>TPP</td>\n",
       "      <td>5</td>\n",
       "    </tr>\n",
       "    <tr>\n",
       "      <th>193</th>\n",
       "      <td>E_sp_MH3</td>\n",
       "      <td>TPP</td>\n",
       "      <td>5</td>\n",
       "    </tr>\n",
       "  </tbody>\n",
       "</table>\n",
       "</div>"
      ],
      "text/plain": [
       "                 targetname queryname  freq\n",
       "274            Eaurantiacum       TPP     5\n",
       "234       E_sp_ZWU0009_fita       TPP     5\n",
       "31   E_antarcticum_dsm14480    Purine     5\n",
       "157      E_sibiricum_255-15       TPP     5\n",
       "193                E_sp_MH3       TPP     5"
      ]
     },
     "execution_count": 59,
     "metadata": {},
     "output_type": "execute_result"
    }
   ],
   "source": [
    "ordenados.tail()"
   ]
  },
  {
   "cell_type": "code",
   "execution_count": 60,
   "id": "respective-barbados",
   "metadata": {},
   "outputs": [
    {
     "name": "stdout",
     "output_type": "stream",
     "text": [
      "Quantidade de resultados: 43\n"
     ]
    }
   ],
   "source": [
    "print(f\"Quantidade de resultados: {ordenados.shape[0]}\")"
   ]
  },
  {
   "cell_type": "code",
   "execution_count": 61,
   "id": "fallen-fountain",
   "metadata": {},
   "outputs": [],
   "source": [
    "fig1 = px.scatter(ordenados, x = \"queryname\", y = \"targetname\",\n",
    "\t         size=\"freq\", color=\"queryname\",\n",
    "                 hover_name=\"queryname\", text=\"freq\")"
   ]
  },
  {
   "cell_type": "code",
   "execution_count": 62,
   "id": "applicable-router",
   "metadata": {},
   "outputs": [
    {
     "data": {
      "application/vnd.plotly.v1+json": {
       "config": {
        "plotlyServerURL": "https://plot.ly"
       },
       "data": [
        {
         "hovertemplate": "<b>%{hovertext}</b><br><br>queryname=%{x}<br>targetname=%{y}<br>freq=%{text}<extra></extra>",
         "hovertext": [
          "T-box",
          "T-box",
          "T-box",
          "T-box",
          "T-box",
          "T-box",
          "T-box",
          "T-box",
          "T-box",
          "T-box",
          "T-box",
          "T-box",
          "T-box",
          "T-box",
          "T-box",
          "T-box"
         ],
         "legendgroup": "T-box",
         "marker": {
          "color": "#636efa",
          "size": [
           17,
           17,
           17,
           16,
           16,
           16,
           16,
           16,
           15,
           14,
           13,
           13,
           13,
           13,
           13,
           12
          ],
          "sizemode": "area",
          "sizeref": 0.0425,
          "symbol": "circle"
         },
         "mode": "markers+text",
         "name": "T-box",
         "orientation": "v",
         "showlegend": true,
         "text": [
          17,
          17,
          17,
          16,
          16,
          16,
          16,
          16,
          15,
          14,
          13,
          13,
          13,
          13,
          13,
          12
         ],
         "type": "scatter",
         "x": [
          "T-box",
          "T-box",
          "T-box",
          "T-box",
          "T-box",
          "T-box",
          "T-box",
          "T-box",
          "T-box",
          "T-box",
          "T-box",
          "T-box",
          "T-box",
          "T-box",
          "T-box",
          "T-box"
         ],
         "xaxis": "x",
         "y": [
          "E_acetylicum_DSM_20416",
          "E_sp_U13-1",
          "E_sp_MH3",
          "E_enclense_NIO-1109",
          "E_marinum_DSM_16307",
          "E_sp_ZWU0009_fita",
          "E_indicum_HHS_31",
          "E_sp_AT1b",
          "E_profundum_PHM_11",
          "E_antarcticum_dsm14480",
          "Ealkaliphilum_12_1",
          "Echiriqhuca",
          "E_sibiricum_255-15",
          "Emexicanum",
          "Eaurantiacum",
          "E_oxidotolerans_JCM_12280"
         ],
         "yaxis": "y"
        },
        {
         "hovertemplate": "<b>%{hovertext}</b><br><br>queryname=%{x}<br>targetname=%{y}<br>freq=%{text}<extra></extra>",
         "hovertext": [
          "SAM",
          "SAM",
          "SAM",
          "SAM",
          "SAM",
          "SAM",
          "SAM",
          "SAM",
          "SAM",
          "SAM",
          "SAM",
          "SAM",
          "SAM",
          "SAM",
          "SAM"
         ],
         "legendgroup": "SAM",
         "marker": {
          "color": "#EF553B",
          "size": [
           11,
           11,
           11,
           11,
           11,
           11,
           11,
           11,
           9,
           9,
           9,
           8,
           8,
           8,
           8
          ],
          "sizemode": "area",
          "sizeref": 0.0425,
          "symbol": "circle"
         },
         "mode": "markers+text",
         "name": "SAM",
         "orientation": "v",
         "showlegend": true,
         "text": [
          11,
          11,
          11,
          11,
          11,
          11,
          11,
          11,
          9,
          9,
          9,
          8,
          8,
          8,
          8
         ],
         "type": "scatter",
         "x": [
          "SAM",
          "SAM",
          "SAM",
          "SAM",
          "SAM",
          "SAM",
          "SAM",
          "SAM",
          "SAM",
          "SAM",
          "SAM",
          "SAM",
          "SAM",
          "SAM",
          "SAM"
         ],
         "xaxis": "x",
         "y": [
          "E_sibiricum_255-15",
          "E_sp_U13-1",
          "E_sp_ZWU0009_fita",
          "E_indicum_HHS_31",
          "E_sp_MH3",
          "E_enclense_NIO-1109",
          "E_antarcticum_dsm14480",
          "E_acetylicum_DSM_20416",
          "Ealkaliphilum_12_1",
          "Echiriqhuca",
          "E_oxidotolerans_JCM_12280",
          "Eaurantiacum",
          "E_sp_AT1b",
          "Emexicanum",
          "E_profundum_PHM_11"
         ],
         "yaxis": "y"
        },
        {
         "hovertemplate": "<b>%{hovertext}</b><br><br>queryname=%{x}<br>targetname=%{y}<br>freq=%{text}<extra></extra>",
         "hovertext": [
          "TPP",
          "TPP",
          "TPP",
          "TPP",
          "TPP",
          "TPP",
          "TPP",
          "TPP",
          "TPP",
          "TPP"
         ],
         "legendgroup": "TPP",
         "marker": {
          "color": "#00cc96",
          "size": [
           6,
           6,
           6,
           6,
           5,
           5,
           5,
           5,
           5,
           5
          ],
          "sizemode": "area",
          "sizeref": 0.0425,
          "symbol": "circle"
         },
         "mode": "markers+text",
         "name": "TPP",
         "orientation": "v",
         "showlegend": true,
         "text": [
          6,
          6,
          6,
          6,
          5,
          5,
          5,
          5,
          5,
          5
         ],
         "type": "scatter",
         "x": [
          "TPP",
          "TPP",
          "TPP",
          "TPP",
          "TPP",
          "TPP",
          "TPP",
          "TPP",
          "TPP",
          "TPP"
         ],
         "xaxis": "x",
         "y": [
          "E_oxidotolerans_JCM_12280",
          "E_enclense_NIO-1109",
          "E_indicum_HHS_31",
          "E_acetylicum_DSM_20416",
          "E_antarcticum_dsm14480",
          "E_sp_U13-1",
          "Eaurantiacum",
          "E_sp_ZWU0009_fita",
          "E_sibiricum_255-15",
          "E_sp_MH3"
         ],
         "yaxis": "y"
        },
        {
         "hovertemplate": "<b>%{hovertext}</b><br><br>queryname=%{x}<br>targetname=%{y}<br>freq=%{text}<extra></extra>",
         "hovertext": [
          "Purine",
          "Purine"
         ],
         "legendgroup": "Purine",
         "marker": {
          "color": "#ab63fa",
          "size": [
           6,
           5
          ],
          "sizemode": "area",
          "sizeref": 0.0425,
          "symbol": "circle"
         },
         "mode": "markers+text",
         "name": "Purine",
         "orientation": "v",
         "showlegend": true,
         "text": [
          6,
          5
         ],
         "type": "scatter",
         "x": [
          "Purine",
          "Purine"
         ],
         "xaxis": "x",
         "y": [
          "Ealkaliphilum_12_1",
          "E_antarcticum_dsm14480"
         ],
         "yaxis": "y"
        }
       ],
       "layout": {
        "legend": {
         "itemsizing": "constant",
         "title": {
          "text": "queryname"
         },
         "tracegroupgap": 0
        },
        "margin": {
         "t": 60
        },
        "template": {
         "data": {
          "bar": [
           {
            "error_x": {
             "color": "#2a3f5f"
            },
            "error_y": {
             "color": "#2a3f5f"
            },
            "marker": {
             "line": {
              "color": "#E5ECF6",
              "width": 0.5
             }
            },
            "type": "bar"
           }
          ],
          "barpolar": [
           {
            "marker": {
             "line": {
              "color": "#E5ECF6",
              "width": 0.5
             }
            },
            "type": "barpolar"
           }
          ],
          "carpet": [
           {
            "aaxis": {
             "endlinecolor": "#2a3f5f",
             "gridcolor": "white",
             "linecolor": "white",
             "minorgridcolor": "white",
             "startlinecolor": "#2a3f5f"
            },
            "baxis": {
             "endlinecolor": "#2a3f5f",
             "gridcolor": "white",
             "linecolor": "white",
             "minorgridcolor": "white",
             "startlinecolor": "#2a3f5f"
            },
            "type": "carpet"
           }
          ],
          "choropleth": [
           {
            "colorbar": {
             "outlinewidth": 0,
             "ticks": ""
            },
            "type": "choropleth"
           }
          ],
          "contour": [
           {
            "colorbar": {
             "outlinewidth": 0,
             "ticks": ""
            },
            "colorscale": [
             [
              0,
              "#0d0887"
             ],
             [
              0.1111111111111111,
              "#46039f"
             ],
             [
              0.2222222222222222,
              "#7201a8"
             ],
             [
              0.3333333333333333,
              "#9c179e"
             ],
             [
              0.4444444444444444,
              "#bd3786"
             ],
             [
              0.5555555555555556,
              "#d8576b"
             ],
             [
              0.6666666666666666,
              "#ed7953"
             ],
             [
              0.7777777777777778,
              "#fb9f3a"
             ],
             [
              0.8888888888888888,
              "#fdca26"
             ],
             [
              1,
              "#f0f921"
             ]
            ],
            "type": "contour"
           }
          ],
          "contourcarpet": [
           {
            "colorbar": {
             "outlinewidth": 0,
             "ticks": ""
            },
            "type": "contourcarpet"
           }
          ],
          "heatmap": [
           {
            "colorbar": {
             "outlinewidth": 0,
             "ticks": ""
            },
            "colorscale": [
             [
              0,
              "#0d0887"
             ],
             [
              0.1111111111111111,
              "#46039f"
             ],
             [
              0.2222222222222222,
              "#7201a8"
             ],
             [
              0.3333333333333333,
              "#9c179e"
             ],
             [
              0.4444444444444444,
              "#bd3786"
             ],
             [
              0.5555555555555556,
              "#d8576b"
             ],
             [
              0.6666666666666666,
              "#ed7953"
             ],
             [
              0.7777777777777778,
              "#fb9f3a"
             ],
             [
              0.8888888888888888,
              "#fdca26"
             ],
             [
              1,
              "#f0f921"
             ]
            ],
            "type": "heatmap"
           }
          ],
          "heatmapgl": [
           {
            "colorbar": {
             "outlinewidth": 0,
             "ticks": ""
            },
            "colorscale": [
             [
              0,
              "#0d0887"
             ],
             [
              0.1111111111111111,
              "#46039f"
             ],
             [
              0.2222222222222222,
              "#7201a8"
             ],
             [
              0.3333333333333333,
              "#9c179e"
             ],
             [
              0.4444444444444444,
              "#bd3786"
             ],
             [
              0.5555555555555556,
              "#d8576b"
             ],
             [
              0.6666666666666666,
              "#ed7953"
             ],
             [
              0.7777777777777778,
              "#fb9f3a"
             ],
             [
              0.8888888888888888,
              "#fdca26"
             ],
             [
              1,
              "#f0f921"
             ]
            ],
            "type": "heatmapgl"
           }
          ],
          "histogram": [
           {
            "marker": {
             "colorbar": {
              "outlinewidth": 0,
              "ticks": ""
             }
            },
            "type": "histogram"
           }
          ],
          "histogram2d": [
           {
            "colorbar": {
             "outlinewidth": 0,
             "ticks": ""
            },
            "colorscale": [
             [
              0,
              "#0d0887"
             ],
             [
              0.1111111111111111,
              "#46039f"
             ],
             [
              0.2222222222222222,
              "#7201a8"
             ],
             [
              0.3333333333333333,
              "#9c179e"
             ],
             [
              0.4444444444444444,
              "#bd3786"
             ],
             [
              0.5555555555555556,
              "#d8576b"
             ],
             [
              0.6666666666666666,
              "#ed7953"
             ],
             [
              0.7777777777777778,
              "#fb9f3a"
             ],
             [
              0.8888888888888888,
              "#fdca26"
             ],
             [
              1,
              "#f0f921"
             ]
            ],
            "type": "histogram2d"
           }
          ],
          "histogram2dcontour": [
           {
            "colorbar": {
             "outlinewidth": 0,
             "ticks": ""
            },
            "colorscale": [
             [
              0,
              "#0d0887"
             ],
             [
              0.1111111111111111,
              "#46039f"
             ],
             [
              0.2222222222222222,
              "#7201a8"
             ],
             [
              0.3333333333333333,
              "#9c179e"
             ],
             [
              0.4444444444444444,
              "#bd3786"
             ],
             [
              0.5555555555555556,
              "#d8576b"
             ],
             [
              0.6666666666666666,
              "#ed7953"
             ],
             [
              0.7777777777777778,
              "#fb9f3a"
             ],
             [
              0.8888888888888888,
              "#fdca26"
             ],
             [
              1,
              "#f0f921"
             ]
            ],
            "type": "histogram2dcontour"
           }
          ],
          "mesh3d": [
           {
            "colorbar": {
             "outlinewidth": 0,
             "ticks": ""
            },
            "type": "mesh3d"
           }
          ],
          "parcoords": [
           {
            "line": {
             "colorbar": {
              "outlinewidth": 0,
              "ticks": ""
             }
            },
            "type": "parcoords"
           }
          ],
          "pie": [
           {
            "automargin": true,
            "type": "pie"
           }
          ],
          "scatter": [
           {
            "marker": {
             "colorbar": {
              "outlinewidth": 0,
              "ticks": ""
             }
            },
            "type": "scatter"
           }
          ],
          "scatter3d": [
           {
            "line": {
             "colorbar": {
              "outlinewidth": 0,
              "ticks": ""
             }
            },
            "marker": {
             "colorbar": {
              "outlinewidth": 0,
              "ticks": ""
             }
            },
            "type": "scatter3d"
           }
          ],
          "scattercarpet": [
           {
            "marker": {
             "colorbar": {
              "outlinewidth": 0,
              "ticks": ""
             }
            },
            "type": "scattercarpet"
           }
          ],
          "scattergeo": [
           {
            "marker": {
             "colorbar": {
              "outlinewidth": 0,
              "ticks": ""
             }
            },
            "type": "scattergeo"
           }
          ],
          "scattergl": [
           {
            "marker": {
             "colorbar": {
              "outlinewidth": 0,
              "ticks": ""
             }
            },
            "type": "scattergl"
           }
          ],
          "scattermapbox": [
           {
            "marker": {
             "colorbar": {
              "outlinewidth": 0,
              "ticks": ""
             }
            },
            "type": "scattermapbox"
           }
          ],
          "scatterpolar": [
           {
            "marker": {
             "colorbar": {
              "outlinewidth": 0,
              "ticks": ""
             }
            },
            "type": "scatterpolar"
           }
          ],
          "scatterpolargl": [
           {
            "marker": {
             "colorbar": {
              "outlinewidth": 0,
              "ticks": ""
             }
            },
            "type": "scatterpolargl"
           }
          ],
          "scatterternary": [
           {
            "marker": {
             "colorbar": {
              "outlinewidth": 0,
              "ticks": ""
             }
            },
            "type": "scatterternary"
           }
          ],
          "surface": [
           {
            "colorbar": {
             "outlinewidth": 0,
             "ticks": ""
            },
            "colorscale": [
             [
              0,
              "#0d0887"
             ],
             [
              0.1111111111111111,
              "#46039f"
             ],
             [
              0.2222222222222222,
              "#7201a8"
             ],
             [
              0.3333333333333333,
              "#9c179e"
             ],
             [
              0.4444444444444444,
              "#bd3786"
             ],
             [
              0.5555555555555556,
              "#d8576b"
             ],
             [
              0.6666666666666666,
              "#ed7953"
             ],
             [
              0.7777777777777778,
              "#fb9f3a"
             ],
             [
              0.8888888888888888,
              "#fdca26"
             ],
             [
              1,
              "#f0f921"
             ]
            ],
            "type": "surface"
           }
          ],
          "table": [
           {
            "cells": {
             "fill": {
              "color": "#EBF0F8"
             },
             "line": {
              "color": "white"
             }
            },
            "header": {
             "fill": {
              "color": "#C8D4E3"
             },
             "line": {
              "color": "white"
             }
            },
            "type": "table"
           }
          ]
         },
         "layout": {
          "annotationdefaults": {
           "arrowcolor": "#2a3f5f",
           "arrowhead": 0,
           "arrowwidth": 1
          },
          "autotypenumbers": "strict",
          "coloraxis": {
           "colorbar": {
            "outlinewidth": 0,
            "ticks": ""
           }
          },
          "colorscale": {
           "diverging": [
            [
             0,
             "#8e0152"
            ],
            [
             0.1,
             "#c51b7d"
            ],
            [
             0.2,
             "#de77ae"
            ],
            [
             0.3,
             "#f1b6da"
            ],
            [
             0.4,
             "#fde0ef"
            ],
            [
             0.5,
             "#f7f7f7"
            ],
            [
             0.6,
             "#e6f5d0"
            ],
            [
             0.7,
             "#b8e186"
            ],
            [
             0.8,
             "#7fbc41"
            ],
            [
             0.9,
             "#4d9221"
            ],
            [
             1,
             "#276419"
            ]
           ],
           "sequential": [
            [
             0,
             "#0d0887"
            ],
            [
             0.1111111111111111,
             "#46039f"
            ],
            [
             0.2222222222222222,
             "#7201a8"
            ],
            [
             0.3333333333333333,
             "#9c179e"
            ],
            [
             0.4444444444444444,
             "#bd3786"
            ],
            [
             0.5555555555555556,
             "#d8576b"
            ],
            [
             0.6666666666666666,
             "#ed7953"
            ],
            [
             0.7777777777777778,
             "#fb9f3a"
            ],
            [
             0.8888888888888888,
             "#fdca26"
            ],
            [
             1,
             "#f0f921"
            ]
           ],
           "sequentialminus": [
            [
             0,
             "#0d0887"
            ],
            [
             0.1111111111111111,
             "#46039f"
            ],
            [
             0.2222222222222222,
             "#7201a8"
            ],
            [
             0.3333333333333333,
             "#9c179e"
            ],
            [
             0.4444444444444444,
             "#bd3786"
            ],
            [
             0.5555555555555556,
             "#d8576b"
            ],
            [
             0.6666666666666666,
             "#ed7953"
            ],
            [
             0.7777777777777778,
             "#fb9f3a"
            ],
            [
             0.8888888888888888,
             "#fdca26"
            ],
            [
             1,
             "#f0f921"
            ]
           ]
          },
          "colorway": [
           "#636efa",
           "#EF553B",
           "#00cc96",
           "#ab63fa",
           "#FFA15A",
           "#19d3f3",
           "#FF6692",
           "#B6E880",
           "#FF97FF",
           "#FECB52"
          ],
          "font": {
           "color": "#2a3f5f"
          },
          "geo": {
           "bgcolor": "white",
           "lakecolor": "white",
           "landcolor": "#E5ECF6",
           "showlakes": true,
           "showland": true,
           "subunitcolor": "white"
          },
          "hoverlabel": {
           "align": "left"
          },
          "hovermode": "closest",
          "mapbox": {
           "style": "light"
          },
          "paper_bgcolor": "white",
          "plot_bgcolor": "#E5ECF6",
          "polar": {
           "angularaxis": {
            "gridcolor": "white",
            "linecolor": "white",
            "ticks": ""
           },
           "bgcolor": "#E5ECF6",
           "radialaxis": {
            "gridcolor": "white",
            "linecolor": "white",
            "ticks": ""
           }
          },
          "scene": {
           "xaxis": {
            "backgroundcolor": "#E5ECF6",
            "gridcolor": "white",
            "gridwidth": 2,
            "linecolor": "white",
            "showbackground": true,
            "ticks": "",
            "zerolinecolor": "white"
           },
           "yaxis": {
            "backgroundcolor": "#E5ECF6",
            "gridcolor": "white",
            "gridwidth": 2,
            "linecolor": "white",
            "showbackground": true,
            "ticks": "",
            "zerolinecolor": "white"
           },
           "zaxis": {
            "backgroundcolor": "#E5ECF6",
            "gridcolor": "white",
            "gridwidth": 2,
            "linecolor": "white",
            "showbackground": true,
            "ticks": "",
            "zerolinecolor": "white"
           }
          },
          "shapedefaults": {
           "line": {
            "color": "#2a3f5f"
           }
          },
          "ternary": {
           "aaxis": {
            "gridcolor": "white",
            "linecolor": "white",
            "ticks": ""
           },
           "baxis": {
            "gridcolor": "white",
            "linecolor": "white",
            "ticks": ""
           },
           "bgcolor": "#E5ECF6",
           "caxis": {
            "gridcolor": "white",
            "linecolor": "white",
            "ticks": ""
           }
          },
          "title": {
           "x": 0.05
          },
          "xaxis": {
           "automargin": true,
           "gridcolor": "white",
           "linecolor": "white",
           "ticks": "",
           "title": {
            "standoff": 15
           },
           "zerolinecolor": "white",
           "zerolinewidth": 2
          },
          "yaxis": {
           "automargin": true,
           "gridcolor": "white",
           "linecolor": "white",
           "ticks": "",
           "title": {
            "standoff": 15
           },
           "zerolinecolor": "white",
           "zerolinewidth": 2
          }
         }
        },
        "xaxis": {
         "anchor": "y",
         "categoryarray": [
          "T-box",
          "SAM",
          "TPP",
          "Purine"
         ],
         "categoryorder": "array",
         "domain": [
          0,
          1
         ],
         "title": {
          "text": "queryname"
         }
        },
        "yaxis": {
         "anchor": "x",
         "domain": [
          0,
          1
         ],
         "title": {
          "text": "targetname"
         }
        }
       }
      },
      "text/html": [
       "<div>                            <div id=\"ebe9b06a-43f0-4996-80b3-072c292a842a\" class=\"plotly-graph-div\" style=\"height:525px; width:100%;\"></div>            <script type=\"text/javascript\">                require([\"plotly\"], function(Plotly) {                    window.PLOTLYENV=window.PLOTLYENV || {};                                    if (document.getElementById(\"ebe9b06a-43f0-4996-80b3-072c292a842a\")) {                    Plotly.newPlot(                        \"ebe9b06a-43f0-4996-80b3-072c292a842a\",                        [{\"hovertemplate\": \"<b>%{hovertext}</b><br><br>queryname=%{x}<br>targetname=%{y}<br>freq=%{text}<extra></extra>\", \"hovertext\": [\"T-box\", \"T-box\", \"T-box\", \"T-box\", \"T-box\", \"T-box\", \"T-box\", \"T-box\", \"T-box\", \"T-box\", \"T-box\", \"T-box\", \"T-box\", \"T-box\", \"T-box\", \"T-box\"], \"legendgroup\": \"T-box\", \"marker\": {\"color\": \"#636efa\", \"size\": [17, 17, 17, 16, 16, 16, 16, 16, 15, 14, 13, 13, 13, 13, 13, 12], \"sizemode\": \"area\", \"sizeref\": 0.0425, \"symbol\": \"circle\"}, \"mode\": \"markers+text\", \"name\": \"T-box\", \"orientation\": \"v\", \"showlegend\": true, \"text\": [17.0, 17.0, 17.0, 16.0, 16.0, 16.0, 16.0, 16.0, 15.0, 14.0, 13.0, 13.0, 13.0, 13.0, 13.0, 12.0], \"type\": \"scatter\", \"x\": [\"T-box\", \"T-box\", \"T-box\", \"T-box\", \"T-box\", \"T-box\", \"T-box\", \"T-box\", \"T-box\", \"T-box\", \"T-box\", \"T-box\", \"T-box\", \"T-box\", \"T-box\", \"T-box\"], \"xaxis\": \"x\", \"y\": [\"E_acetylicum_DSM_20416\", \"E_sp_U13-1\", \"E_sp_MH3\", \"E_enclense_NIO-1109\", \"E_marinum_DSM_16307\", \"E_sp_ZWU0009_fita\", \"E_indicum_HHS_31\", \"E_sp_AT1b\", \"E_profundum_PHM_11\", \"E_antarcticum_dsm14480\", \"Ealkaliphilum_12_1\", \"Echiriqhuca\", \"E_sibiricum_255-15\", \"Emexicanum\", \"Eaurantiacum\", \"E_oxidotolerans_JCM_12280\"], \"yaxis\": \"y\"}, {\"hovertemplate\": \"<b>%{hovertext}</b><br><br>queryname=%{x}<br>targetname=%{y}<br>freq=%{text}<extra></extra>\", \"hovertext\": [\"SAM\", \"SAM\", \"SAM\", \"SAM\", \"SAM\", \"SAM\", \"SAM\", \"SAM\", \"SAM\", \"SAM\", \"SAM\", \"SAM\", \"SAM\", \"SAM\", \"SAM\"], \"legendgroup\": \"SAM\", \"marker\": {\"color\": \"#EF553B\", \"size\": [11, 11, 11, 11, 11, 11, 11, 11, 9, 9, 9, 8, 8, 8, 8], \"sizemode\": \"area\", \"sizeref\": 0.0425, \"symbol\": \"circle\"}, \"mode\": \"markers+text\", \"name\": \"SAM\", \"orientation\": \"v\", \"showlegend\": true, \"text\": [11.0, 11.0, 11.0, 11.0, 11.0, 11.0, 11.0, 11.0, 9.0, 9.0, 9.0, 8.0, 8.0, 8.0, 8.0], \"type\": \"scatter\", \"x\": [\"SAM\", \"SAM\", \"SAM\", \"SAM\", \"SAM\", \"SAM\", \"SAM\", \"SAM\", \"SAM\", \"SAM\", \"SAM\", \"SAM\", \"SAM\", \"SAM\", \"SAM\"], \"xaxis\": \"x\", \"y\": [\"E_sibiricum_255-15\", \"E_sp_U13-1\", \"E_sp_ZWU0009_fita\", \"E_indicum_HHS_31\", \"E_sp_MH3\", \"E_enclense_NIO-1109\", \"E_antarcticum_dsm14480\", \"E_acetylicum_DSM_20416\", \"Ealkaliphilum_12_1\", \"Echiriqhuca\", \"E_oxidotolerans_JCM_12280\", \"Eaurantiacum\", \"E_sp_AT1b\", \"Emexicanum\", \"E_profundum_PHM_11\"], \"yaxis\": \"y\"}, {\"hovertemplate\": \"<b>%{hovertext}</b><br><br>queryname=%{x}<br>targetname=%{y}<br>freq=%{text}<extra></extra>\", \"hovertext\": [\"TPP\", \"TPP\", \"TPP\", \"TPP\", \"TPP\", \"TPP\", \"TPP\", \"TPP\", \"TPP\", \"TPP\"], \"legendgroup\": \"TPP\", \"marker\": {\"color\": \"#00cc96\", \"size\": [6, 6, 6, 6, 5, 5, 5, 5, 5, 5], \"sizemode\": \"area\", \"sizeref\": 0.0425, \"symbol\": \"circle\"}, \"mode\": \"markers+text\", \"name\": \"TPP\", \"orientation\": \"v\", \"showlegend\": true, \"text\": [6.0, 6.0, 6.0, 6.0, 5.0, 5.0, 5.0, 5.0, 5.0, 5.0], \"type\": \"scatter\", \"x\": [\"TPP\", \"TPP\", \"TPP\", \"TPP\", \"TPP\", \"TPP\", \"TPP\", \"TPP\", \"TPP\", \"TPP\"], \"xaxis\": \"x\", \"y\": [\"E_oxidotolerans_JCM_12280\", \"E_enclense_NIO-1109\", \"E_indicum_HHS_31\", \"E_acetylicum_DSM_20416\", \"E_antarcticum_dsm14480\", \"E_sp_U13-1\", \"Eaurantiacum\", \"E_sp_ZWU0009_fita\", \"E_sibiricum_255-15\", \"E_sp_MH3\"], \"yaxis\": \"y\"}, {\"hovertemplate\": \"<b>%{hovertext}</b><br><br>queryname=%{x}<br>targetname=%{y}<br>freq=%{text}<extra></extra>\", \"hovertext\": [\"Purine\", \"Purine\"], \"legendgroup\": \"Purine\", \"marker\": {\"color\": \"#ab63fa\", \"size\": [6, 5], \"sizemode\": \"area\", \"sizeref\": 0.0425, \"symbol\": \"circle\"}, \"mode\": \"markers+text\", \"name\": \"Purine\", \"orientation\": \"v\", \"showlegend\": true, \"text\": [6.0, 5.0], \"type\": \"scatter\", \"x\": [\"Purine\", \"Purine\"], \"xaxis\": \"x\", \"y\": [\"Ealkaliphilum_12_1\", \"E_antarcticum_dsm14480\"], \"yaxis\": \"y\"}],                        {\"legend\": {\"itemsizing\": \"constant\", \"title\": {\"text\": \"queryname\"}, \"tracegroupgap\": 0}, \"margin\": {\"t\": 60}, \"template\": {\"data\": {\"bar\": [{\"error_x\": {\"color\": \"#2a3f5f\"}, \"error_y\": {\"color\": \"#2a3f5f\"}, \"marker\": {\"line\": {\"color\": \"#E5ECF6\", \"width\": 0.5}}, \"type\": \"bar\"}], \"barpolar\": [{\"marker\": {\"line\": {\"color\": \"#E5ECF6\", \"width\": 0.5}}, \"type\": \"barpolar\"}], \"carpet\": [{\"aaxis\": {\"endlinecolor\": \"#2a3f5f\", \"gridcolor\": \"white\", \"linecolor\": \"white\", \"minorgridcolor\": \"white\", \"startlinecolor\": \"#2a3f5f\"}, \"baxis\": {\"endlinecolor\": \"#2a3f5f\", \"gridcolor\": \"white\", \"linecolor\": \"white\", \"minorgridcolor\": \"white\", \"startlinecolor\": \"#2a3f5f\"}, \"type\": \"carpet\"}], \"choropleth\": [{\"colorbar\": {\"outlinewidth\": 0, \"ticks\": \"\"}, \"type\": \"choropleth\"}], \"contour\": [{\"colorbar\": {\"outlinewidth\": 0, \"ticks\": \"\"}, \"colorscale\": [[0.0, \"#0d0887\"], [0.1111111111111111, \"#46039f\"], [0.2222222222222222, \"#7201a8\"], [0.3333333333333333, \"#9c179e\"], [0.4444444444444444, \"#bd3786\"], [0.5555555555555556, \"#d8576b\"], [0.6666666666666666, \"#ed7953\"], [0.7777777777777778, \"#fb9f3a\"], [0.8888888888888888, \"#fdca26\"], [1.0, \"#f0f921\"]], \"type\": \"contour\"}], \"contourcarpet\": [{\"colorbar\": {\"outlinewidth\": 0, \"ticks\": \"\"}, \"type\": \"contourcarpet\"}], \"heatmap\": [{\"colorbar\": {\"outlinewidth\": 0, \"ticks\": \"\"}, \"colorscale\": [[0.0, \"#0d0887\"], [0.1111111111111111, \"#46039f\"], [0.2222222222222222, \"#7201a8\"], [0.3333333333333333, \"#9c179e\"], [0.4444444444444444, \"#bd3786\"], [0.5555555555555556, \"#d8576b\"], [0.6666666666666666, \"#ed7953\"], [0.7777777777777778, \"#fb9f3a\"], [0.8888888888888888, \"#fdca26\"], [1.0, \"#f0f921\"]], \"type\": \"heatmap\"}], \"heatmapgl\": [{\"colorbar\": {\"outlinewidth\": 0, \"ticks\": \"\"}, \"colorscale\": [[0.0, \"#0d0887\"], [0.1111111111111111, \"#46039f\"], [0.2222222222222222, \"#7201a8\"], [0.3333333333333333, \"#9c179e\"], [0.4444444444444444, \"#bd3786\"], [0.5555555555555556, \"#d8576b\"], [0.6666666666666666, \"#ed7953\"], [0.7777777777777778, \"#fb9f3a\"], [0.8888888888888888, \"#fdca26\"], [1.0, \"#f0f921\"]], \"type\": \"heatmapgl\"}], \"histogram\": [{\"marker\": {\"colorbar\": {\"outlinewidth\": 0, \"ticks\": \"\"}}, \"type\": \"histogram\"}], \"histogram2d\": [{\"colorbar\": {\"outlinewidth\": 0, \"ticks\": \"\"}, \"colorscale\": [[0.0, \"#0d0887\"], [0.1111111111111111, \"#46039f\"], [0.2222222222222222, \"#7201a8\"], [0.3333333333333333, \"#9c179e\"], [0.4444444444444444, \"#bd3786\"], [0.5555555555555556, \"#d8576b\"], [0.6666666666666666, \"#ed7953\"], [0.7777777777777778, \"#fb9f3a\"], [0.8888888888888888, \"#fdca26\"], [1.0, \"#f0f921\"]], \"type\": \"histogram2d\"}], \"histogram2dcontour\": [{\"colorbar\": {\"outlinewidth\": 0, \"ticks\": \"\"}, \"colorscale\": [[0.0, \"#0d0887\"], [0.1111111111111111, \"#46039f\"], [0.2222222222222222, \"#7201a8\"], [0.3333333333333333, \"#9c179e\"], [0.4444444444444444, \"#bd3786\"], [0.5555555555555556, \"#d8576b\"], [0.6666666666666666, \"#ed7953\"], [0.7777777777777778, \"#fb9f3a\"], [0.8888888888888888, \"#fdca26\"], [1.0, \"#f0f921\"]], \"type\": \"histogram2dcontour\"}], \"mesh3d\": [{\"colorbar\": {\"outlinewidth\": 0, \"ticks\": \"\"}, \"type\": \"mesh3d\"}], \"parcoords\": [{\"line\": {\"colorbar\": {\"outlinewidth\": 0, \"ticks\": \"\"}}, \"type\": \"parcoords\"}], \"pie\": [{\"automargin\": true, \"type\": \"pie\"}], \"scatter\": [{\"marker\": {\"colorbar\": {\"outlinewidth\": 0, \"ticks\": \"\"}}, \"type\": \"scatter\"}], \"scatter3d\": [{\"line\": {\"colorbar\": {\"outlinewidth\": 0, \"ticks\": \"\"}}, \"marker\": {\"colorbar\": {\"outlinewidth\": 0, \"ticks\": \"\"}}, \"type\": \"scatter3d\"}], \"scattercarpet\": [{\"marker\": {\"colorbar\": {\"outlinewidth\": 0, \"ticks\": \"\"}}, \"type\": \"scattercarpet\"}], \"scattergeo\": [{\"marker\": {\"colorbar\": {\"outlinewidth\": 0, \"ticks\": \"\"}}, \"type\": \"scattergeo\"}], \"scattergl\": [{\"marker\": {\"colorbar\": {\"outlinewidth\": 0, \"ticks\": \"\"}}, \"type\": \"scattergl\"}], \"scattermapbox\": [{\"marker\": {\"colorbar\": {\"outlinewidth\": 0, \"ticks\": \"\"}}, \"type\": \"scattermapbox\"}], \"scatterpolar\": [{\"marker\": {\"colorbar\": {\"outlinewidth\": 0, \"ticks\": \"\"}}, \"type\": \"scatterpolar\"}], \"scatterpolargl\": [{\"marker\": {\"colorbar\": {\"outlinewidth\": 0, \"ticks\": \"\"}}, \"type\": \"scatterpolargl\"}], \"scatterternary\": [{\"marker\": {\"colorbar\": {\"outlinewidth\": 0, \"ticks\": \"\"}}, \"type\": \"scatterternary\"}], \"surface\": [{\"colorbar\": {\"outlinewidth\": 0, \"ticks\": \"\"}, \"colorscale\": [[0.0, \"#0d0887\"], [0.1111111111111111, \"#46039f\"], [0.2222222222222222, \"#7201a8\"], [0.3333333333333333, \"#9c179e\"], [0.4444444444444444, \"#bd3786\"], [0.5555555555555556, \"#d8576b\"], [0.6666666666666666, \"#ed7953\"], [0.7777777777777778, \"#fb9f3a\"], [0.8888888888888888, \"#fdca26\"], [1.0, \"#f0f921\"]], \"type\": \"surface\"}], \"table\": [{\"cells\": {\"fill\": {\"color\": \"#EBF0F8\"}, \"line\": {\"color\": \"white\"}}, \"header\": {\"fill\": {\"color\": \"#C8D4E3\"}, \"line\": {\"color\": \"white\"}}, \"type\": \"table\"}]}, \"layout\": {\"annotationdefaults\": {\"arrowcolor\": \"#2a3f5f\", \"arrowhead\": 0, \"arrowwidth\": 1}, \"autotypenumbers\": \"strict\", \"coloraxis\": {\"colorbar\": {\"outlinewidth\": 0, \"ticks\": \"\"}}, \"colorscale\": {\"diverging\": [[0, \"#8e0152\"], [0.1, \"#c51b7d\"], [0.2, \"#de77ae\"], [0.3, \"#f1b6da\"], [0.4, \"#fde0ef\"], [0.5, \"#f7f7f7\"], [0.6, \"#e6f5d0\"], [0.7, \"#b8e186\"], [0.8, \"#7fbc41\"], [0.9, \"#4d9221\"], [1, \"#276419\"]], \"sequential\": [[0.0, \"#0d0887\"], [0.1111111111111111, \"#46039f\"], [0.2222222222222222, \"#7201a8\"], [0.3333333333333333, \"#9c179e\"], [0.4444444444444444, \"#bd3786\"], [0.5555555555555556, \"#d8576b\"], [0.6666666666666666, \"#ed7953\"], [0.7777777777777778, \"#fb9f3a\"], [0.8888888888888888, \"#fdca26\"], [1.0, \"#f0f921\"]], \"sequentialminus\": [[0.0, \"#0d0887\"], [0.1111111111111111, \"#46039f\"], [0.2222222222222222, \"#7201a8\"], [0.3333333333333333, \"#9c179e\"], [0.4444444444444444, \"#bd3786\"], [0.5555555555555556, \"#d8576b\"], [0.6666666666666666, \"#ed7953\"], [0.7777777777777778, \"#fb9f3a\"], [0.8888888888888888, \"#fdca26\"], [1.0, \"#f0f921\"]]}, \"colorway\": [\"#636efa\", \"#EF553B\", \"#00cc96\", \"#ab63fa\", \"#FFA15A\", \"#19d3f3\", \"#FF6692\", \"#B6E880\", \"#FF97FF\", \"#FECB52\"], \"font\": {\"color\": \"#2a3f5f\"}, \"geo\": {\"bgcolor\": \"white\", \"lakecolor\": \"white\", \"landcolor\": \"#E5ECF6\", \"showlakes\": true, \"showland\": true, \"subunitcolor\": \"white\"}, \"hoverlabel\": {\"align\": \"left\"}, \"hovermode\": \"closest\", \"mapbox\": {\"style\": \"light\"}, \"paper_bgcolor\": \"white\", \"plot_bgcolor\": \"#E5ECF6\", \"polar\": {\"angularaxis\": {\"gridcolor\": \"white\", \"linecolor\": \"white\", \"ticks\": \"\"}, \"bgcolor\": \"#E5ECF6\", \"radialaxis\": {\"gridcolor\": \"white\", \"linecolor\": \"white\", \"ticks\": \"\"}}, \"scene\": {\"xaxis\": {\"backgroundcolor\": \"#E5ECF6\", \"gridcolor\": \"white\", \"gridwidth\": 2, \"linecolor\": \"white\", \"showbackground\": true, \"ticks\": \"\", \"zerolinecolor\": \"white\"}, \"yaxis\": {\"backgroundcolor\": \"#E5ECF6\", \"gridcolor\": \"white\", \"gridwidth\": 2, \"linecolor\": \"white\", \"showbackground\": true, \"ticks\": \"\", \"zerolinecolor\": \"white\"}, \"zaxis\": {\"backgroundcolor\": \"#E5ECF6\", \"gridcolor\": \"white\", \"gridwidth\": 2, \"linecolor\": \"white\", \"showbackground\": true, \"ticks\": \"\", \"zerolinecolor\": \"white\"}}, \"shapedefaults\": {\"line\": {\"color\": \"#2a3f5f\"}}, \"ternary\": {\"aaxis\": {\"gridcolor\": \"white\", \"linecolor\": \"white\", \"ticks\": \"\"}, \"baxis\": {\"gridcolor\": \"white\", \"linecolor\": \"white\", \"ticks\": \"\"}, \"bgcolor\": \"#E5ECF6\", \"caxis\": {\"gridcolor\": \"white\", \"linecolor\": \"white\", \"ticks\": \"\"}}, \"title\": {\"x\": 0.05}, \"xaxis\": {\"automargin\": true, \"gridcolor\": \"white\", \"linecolor\": \"white\", \"ticks\": \"\", \"title\": {\"standoff\": 15}, \"zerolinecolor\": \"white\", \"zerolinewidth\": 2}, \"yaxis\": {\"automargin\": true, \"gridcolor\": \"white\", \"linecolor\": \"white\", \"ticks\": \"\", \"title\": {\"standoff\": 15}, \"zerolinecolor\": \"white\", \"zerolinewidth\": 2}}}, \"xaxis\": {\"anchor\": \"y\", \"categoryarray\": [\"T-box\", \"SAM\", \"TPP\", \"Purine\"], \"categoryorder\": \"array\", \"domain\": [0.0, 1.0], \"title\": {\"text\": \"queryname\"}}, \"yaxis\": {\"anchor\": \"x\", \"domain\": [0.0, 1.0], \"title\": {\"text\": \"targetname\"}}},                        {\"responsive\": true}                    ).then(function(){\n",
       "                            \n",
       "var gd = document.getElementById('ebe9b06a-43f0-4996-80b3-072c292a842a');\n",
       "var x = new MutationObserver(function (mutations, observer) {{\n",
       "        var display = window.getComputedStyle(gd).display;\n",
       "        if (!display || display === 'none') {{\n",
       "            console.log([gd, 'removed!']);\n",
       "            Plotly.purge(gd);\n",
       "            observer.disconnect();\n",
       "        }}\n",
       "}});\n",
       "\n",
       "// Listen for the removal of the full notebook cells\n",
       "var notebookContainer = gd.closest('#notebook-container');\n",
       "if (notebookContainer) {{\n",
       "    x.observe(notebookContainer, {childList: true});\n",
       "}}\n",
       "\n",
       "// Listen for the clearing of the current output cell\n",
       "var outputEl = gd.closest('.output');\n",
       "if (outputEl) {{\n",
       "    x.observe(outputEl, {childList: true});\n",
       "}}\n",
       "\n",
       "                        })                };                });            </script>        </div>"
      ]
     },
     "metadata": {},
     "output_type": "display_data"
    }
   ],
   "source": [
    "fig1.show()"
   ]
  },
  {
   "cell_type": "markdown",
   "id": "authorized-fancy",
   "metadata": {},
   "source": [
    "#### SRNAs descritas no artigo: SAM, Purine, T-Box, L10_leader e L20_leader"
   ]
  },
  {
   "cell_type": "code",
   "execution_count": 63,
   "id": "devoted-porcelain",
   "metadata": {},
   "outputs": [],
   "source": [
    "artigo = ['RF00162', 'RF00167', 'RF00230', 'RF00557', 'RF00558']"
   ]
  },
  {
   "cell_type": "code",
   "execution_count": 64,
   "id": "dependent-edmonton",
   "metadata": {},
   "outputs": [],
   "source": [
    "rnas_artigo =  dados[['targetname', 'queryname', 'rfamid']].query('rfamid == @artigo')"
   ]
  },
  {
   "cell_type": "code",
   "execution_count": 65,
   "id": "studied-ethernet",
   "metadata": {},
   "outputs": [],
   "source": [
    "rnas_artigo_agrupados = rnas_artigo.groupby(['targetname', 'queryname'])['targetname'].agg(['count'])"
   ]
  },
  {
   "cell_type": "code",
   "execution_count": 66,
   "id": "noted-sessions",
   "metadata": {},
   "outputs": [],
   "source": [
    "rnas_artigo_agrupados.reset_index(inplace=True)\n",
    "rnas_artigo_agrupados.rename(columns={'count':'freq'}, inplace=True)"
   ]
  },
  {
   "cell_type": "code",
   "execution_count": 67,
   "id": "threatened-spare",
   "metadata": {},
   "outputs": [
    {
     "data": {
      "text/html": [
       "<div>\n",
       "<style scoped>\n",
       "    .dataframe tbody tr th:only-of-type {\n",
       "        vertical-align: middle;\n",
       "    }\n",
       "\n",
       "    .dataframe tbody tr th {\n",
       "        vertical-align: top;\n",
       "    }\n",
       "\n",
       "    .dataframe thead th {\n",
       "        text-align: right;\n",
       "    }\n",
       "</style>\n",
       "<table border=\"1\" class=\"dataframe\">\n",
       "  <thead>\n",
       "    <tr style=\"text-align: right;\">\n",
       "      <th></th>\n",
       "      <th>targetname</th>\n",
       "      <th>queryname</th>\n",
       "      <th>freq</th>\n",
       "    </tr>\n",
       "  </thead>\n",
       "  <tbody>\n",
       "    <tr>\n",
       "      <th>0</th>\n",
       "      <td>E_acetylicum_DSM_20416</td>\n",
       "      <td>L10_leader</td>\n",
       "      <td>1</td>\n",
       "    </tr>\n",
       "    <tr>\n",
       "      <th>1</th>\n",
       "      <td>E_acetylicum_DSM_20416</td>\n",
       "      <td>Purine</td>\n",
       "      <td>4</td>\n",
       "    </tr>\n",
       "    <tr>\n",
       "      <th>2</th>\n",
       "      <td>E_acetylicum_DSM_20416</td>\n",
       "      <td>SAM</td>\n",
       "      <td>11</td>\n",
       "    </tr>\n",
       "    <tr>\n",
       "      <th>3</th>\n",
       "      <td>E_acetylicum_DSM_20416</td>\n",
       "      <td>T-box</td>\n",
       "      <td>17</td>\n",
       "    </tr>\n",
       "    <tr>\n",
       "      <th>4</th>\n",
       "      <td>E_antarcticum_dsm14480</td>\n",
       "      <td>L10_leader</td>\n",
       "      <td>1</td>\n",
       "    </tr>\n",
       "    <tr>\n",
       "      <th>5</th>\n",
       "      <td>E_antarcticum_dsm14480</td>\n",
       "      <td>L20_leader</td>\n",
       "      <td>1</td>\n",
       "    </tr>\n",
       "    <tr>\n",
       "      <th>6</th>\n",
       "      <td>E_antarcticum_dsm14480</td>\n",
       "      <td>Purine</td>\n",
       "      <td>5</td>\n",
       "    </tr>\n",
       "    <tr>\n",
       "      <th>7</th>\n",
       "      <td>E_antarcticum_dsm14480</td>\n",
       "      <td>SAM</td>\n",
       "      <td>11</td>\n",
       "    </tr>\n",
       "    <tr>\n",
       "      <th>8</th>\n",
       "      <td>E_antarcticum_dsm14480</td>\n",
       "      <td>T-box</td>\n",
       "      <td>14</td>\n",
       "    </tr>\n",
       "    <tr>\n",
       "      <th>9</th>\n",
       "      <td>E_enclense_NIO-1109</td>\n",
       "      <td>L10_leader</td>\n",
       "      <td>1</td>\n",
       "    </tr>\n",
       "  </tbody>\n",
       "</table>\n",
       "</div>"
      ],
      "text/plain": [
       "               targetname   queryname  freq\n",
       "0  E_acetylicum_DSM_20416  L10_leader     1\n",
       "1  E_acetylicum_DSM_20416      Purine     4\n",
       "2  E_acetylicum_DSM_20416         SAM    11\n",
       "3  E_acetylicum_DSM_20416       T-box    17\n",
       "4  E_antarcticum_dsm14480  L10_leader     1\n",
       "5  E_antarcticum_dsm14480  L20_leader     1\n",
       "6  E_antarcticum_dsm14480      Purine     5\n",
       "7  E_antarcticum_dsm14480         SAM    11\n",
       "8  E_antarcticum_dsm14480       T-box    14\n",
       "9     E_enclense_NIO-1109  L10_leader     1"
      ]
     },
     "execution_count": 67,
     "metadata": {},
     "output_type": "execute_result"
    }
   ],
   "source": [
    "rnas_artigo_agrupados.head(10)"
   ]
  },
  {
   "cell_type": "code",
   "execution_count": 68,
   "id": "hydraulic-education",
   "metadata": {},
   "outputs": [],
   "source": [
    "fig2 = px.scatter(rnas_artigo_agrupados, x = \"targetname\", y = \"queryname\",\n",
    "\t         size=\"freq\", color=\"queryname\",\n",
    "                 hover_name=\"queryname\", text=\"freq\")"
   ]
  },
  {
   "cell_type": "code",
   "execution_count": 69,
   "id": "developed-valve",
   "metadata": {},
   "outputs": [
    {
     "data": {
      "application/vnd.plotly.v1+json": {
       "config": {
        "plotlyServerURL": "https://plot.ly"
       },
       "data": [
        {
         "hovertemplate": "<b>%{hovertext}</b><br><br>queryname=%{y}<br>targetname=%{x}<br>freq=%{text}<extra></extra>",
         "hovertext": [
          "L10_leader",
          "L10_leader",
          "L10_leader",
          "L10_leader",
          "L10_leader",
          "L10_leader",
          "L10_leader",
          "L10_leader",
          "L10_leader",
          "L10_leader",
          "L10_leader",
          "L10_leader",
          "L10_leader",
          "L10_leader",
          "L10_leader",
          "L10_leader"
         ],
         "legendgroup": "L10_leader",
         "marker": {
          "color": "#636efa",
          "size": [
           1,
           1,
           1,
           1,
           1,
           1,
           1,
           1,
           1,
           1,
           1,
           1,
           1,
           1,
           1,
           1
          ],
          "sizemode": "area",
          "sizeref": 0.0425,
          "symbol": "circle"
         },
         "mode": "markers+text",
         "name": "L10_leader",
         "orientation": "v",
         "showlegend": true,
         "text": [
          1,
          1,
          1,
          1,
          1,
          1,
          1,
          1,
          1,
          1,
          1,
          1,
          1,
          1,
          1,
          1
         ],
         "type": "scatter",
         "x": [
          "E_acetylicum_DSM_20416",
          "E_antarcticum_dsm14480",
          "E_enclense_NIO-1109",
          "E_indicum_HHS_31",
          "E_marinum_DSM_16307",
          "E_oxidotolerans_JCM_12280",
          "E_profundum_PHM_11",
          "E_sibiricum_255-15",
          "E_sp_AT1b",
          "E_sp_MH3",
          "E_sp_U13-1",
          "E_sp_ZWU0009_fita",
          "Ealkaliphilum_12_1",
          "Eaurantiacum",
          "Echiriqhuca",
          "Emexicanum"
         ],
         "xaxis": "x",
         "y": [
          "L10_leader",
          "L10_leader",
          "L10_leader",
          "L10_leader",
          "L10_leader",
          "L10_leader",
          "L10_leader",
          "L10_leader",
          "L10_leader",
          "L10_leader",
          "L10_leader",
          "L10_leader",
          "L10_leader",
          "L10_leader",
          "L10_leader",
          "L10_leader"
         ],
         "yaxis": "y"
        },
        {
         "hovertemplate": "<b>%{hovertext}</b><br><br>queryname=%{y}<br>targetname=%{x}<br>freq=%{text}<extra></extra>",
         "hovertext": [
          "Purine",
          "Purine",
          "Purine",
          "Purine",
          "Purine",
          "Purine",
          "Purine",
          "Purine",
          "Purine",
          "Purine",
          "Purine",
          "Purine",
          "Purine",
          "Purine",
          "Purine",
          "Purine"
         ],
         "legendgroup": "Purine",
         "marker": {
          "color": "#EF553B",
          "size": [
           4,
           5,
           4,
           4,
           4,
           4,
           4,
           4,
           4,
           4,
           4,
           4,
           6,
           4,
           4,
           4
          ],
          "sizemode": "area",
          "sizeref": 0.0425,
          "symbol": "circle"
         },
         "mode": "markers+text",
         "name": "Purine",
         "orientation": "v",
         "showlegend": true,
         "text": [
          4,
          5,
          4,
          4,
          4,
          4,
          4,
          4,
          4,
          4,
          4,
          4,
          6,
          4,
          4,
          4
         ],
         "type": "scatter",
         "x": [
          "E_acetylicum_DSM_20416",
          "E_antarcticum_dsm14480",
          "E_enclense_NIO-1109",
          "E_indicum_HHS_31",
          "E_marinum_DSM_16307",
          "E_oxidotolerans_JCM_12280",
          "E_profundum_PHM_11",
          "E_sibiricum_255-15",
          "E_sp_AT1b",
          "E_sp_MH3",
          "E_sp_U13-1",
          "E_sp_ZWU0009_fita",
          "Ealkaliphilum_12_1",
          "Eaurantiacum",
          "Echiriqhuca",
          "Emexicanum"
         ],
         "xaxis": "x",
         "y": [
          "Purine",
          "Purine",
          "Purine",
          "Purine",
          "Purine",
          "Purine",
          "Purine",
          "Purine",
          "Purine",
          "Purine",
          "Purine",
          "Purine",
          "Purine",
          "Purine",
          "Purine",
          "Purine"
         ],
         "yaxis": "y"
        },
        {
         "hovertemplate": "<b>%{hovertext}</b><br><br>queryname=%{y}<br>targetname=%{x}<br>freq=%{text}<extra></extra>",
         "hovertext": [
          "SAM",
          "SAM",
          "SAM",
          "SAM",
          "SAM",
          "SAM",
          "SAM",
          "SAM",
          "SAM",
          "SAM",
          "SAM",
          "SAM",
          "SAM",
          "SAM",
          "SAM",
          "SAM"
         ],
         "legendgroup": "SAM",
         "marker": {
          "color": "#00cc96",
          "size": [
           11,
           11,
           11,
           11,
           4,
           9,
           8,
           11,
           8,
           11,
           11,
           11,
           9,
           8,
           9,
           8
          ],
          "sizemode": "area",
          "sizeref": 0.0425,
          "symbol": "circle"
         },
         "mode": "markers+text",
         "name": "SAM",
         "orientation": "v",
         "showlegend": true,
         "text": [
          11,
          11,
          11,
          11,
          4,
          9,
          8,
          11,
          8,
          11,
          11,
          11,
          9,
          8,
          9,
          8
         ],
         "type": "scatter",
         "x": [
          "E_acetylicum_DSM_20416",
          "E_antarcticum_dsm14480",
          "E_enclense_NIO-1109",
          "E_indicum_HHS_31",
          "E_marinum_DSM_16307",
          "E_oxidotolerans_JCM_12280",
          "E_profundum_PHM_11",
          "E_sibiricum_255-15",
          "E_sp_AT1b",
          "E_sp_MH3",
          "E_sp_U13-1",
          "E_sp_ZWU0009_fita",
          "Ealkaliphilum_12_1",
          "Eaurantiacum",
          "Echiriqhuca",
          "Emexicanum"
         ],
         "xaxis": "x",
         "y": [
          "SAM",
          "SAM",
          "SAM",
          "SAM",
          "SAM",
          "SAM",
          "SAM",
          "SAM",
          "SAM",
          "SAM",
          "SAM",
          "SAM",
          "SAM",
          "SAM",
          "SAM",
          "SAM"
         ],
         "yaxis": "y"
        },
        {
         "hovertemplate": "<b>%{hovertext}</b><br><br>queryname=%{y}<br>targetname=%{x}<br>freq=%{text}<extra></extra>",
         "hovertext": [
          "T-box",
          "T-box",
          "T-box",
          "T-box",
          "T-box",
          "T-box",
          "T-box",
          "T-box",
          "T-box",
          "T-box",
          "T-box",
          "T-box",
          "T-box",
          "T-box",
          "T-box",
          "T-box"
         ],
         "legendgroup": "T-box",
         "marker": {
          "color": "#ab63fa",
          "size": [
           17,
           14,
           16,
           16,
           16,
           12,
           15,
           13,
           16,
           17,
           17,
           16,
           13,
           13,
           13,
           13
          ],
          "sizemode": "area",
          "sizeref": 0.0425,
          "symbol": "circle"
         },
         "mode": "markers+text",
         "name": "T-box",
         "orientation": "v",
         "showlegend": true,
         "text": [
          17,
          14,
          16,
          16,
          16,
          12,
          15,
          13,
          16,
          17,
          17,
          16,
          13,
          13,
          13,
          13
         ],
         "type": "scatter",
         "x": [
          "E_acetylicum_DSM_20416",
          "E_antarcticum_dsm14480",
          "E_enclense_NIO-1109",
          "E_indicum_HHS_31",
          "E_marinum_DSM_16307",
          "E_oxidotolerans_JCM_12280",
          "E_profundum_PHM_11",
          "E_sibiricum_255-15",
          "E_sp_AT1b",
          "E_sp_MH3",
          "E_sp_U13-1",
          "E_sp_ZWU0009_fita",
          "Ealkaliphilum_12_1",
          "Eaurantiacum",
          "Echiriqhuca",
          "Emexicanum"
         ],
         "xaxis": "x",
         "y": [
          "T-box",
          "T-box",
          "T-box",
          "T-box",
          "T-box",
          "T-box",
          "T-box",
          "T-box",
          "T-box",
          "T-box",
          "T-box",
          "T-box",
          "T-box",
          "T-box",
          "T-box",
          "T-box"
         ],
         "yaxis": "y"
        },
        {
         "hovertemplate": "<b>%{hovertext}</b><br><br>queryname=%{y}<br>targetname=%{x}<br>freq=%{text}<extra></extra>",
         "hovertext": [
          "L20_leader",
          "L20_leader",
          "L20_leader",
          "L20_leader",
          "L20_leader",
          "L20_leader",
          "L20_leader"
         ],
         "legendgroup": "L20_leader",
         "marker": {
          "color": "#FFA15A",
          "size": [
           1,
           1,
           1,
           1,
           1,
           1,
           1
          ],
          "sizemode": "area",
          "sizeref": 0.0425,
          "symbol": "circle"
         },
         "mode": "markers+text",
         "name": "L20_leader",
         "orientation": "v",
         "showlegend": true,
         "text": [
          1,
          1,
          1,
          1,
          1,
          1,
          1
         ],
         "type": "scatter",
         "x": [
          "E_antarcticum_dsm14480",
          "E_oxidotolerans_JCM_12280",
          "E_sibiricum_255-15",
          "Ealkaliphilum_12_1",
          "Eaurantiacum",
          "Echiriqhuca",
          "Emexicanum"
         ],
         "xaxis": "x",
         "y": [
          "L20_leader",
          "L20_leader",
          "L20_leader",
          "L20_leader",
          "L20_leader",
          "L20_leader",
          "L20_leader"
         ],
         "yaxis": "y"
        }
       ],
       "layout": {
        "legend": {
         "itemsizing": "constant",
         "title": {
          "text": "queryname"
         },
         "tracegroupgap": 0
        },
        "margin": {
         "t": 60
        },
        "template": {
         "data": {
          "bar": [
           {
            "error_x": {
             "color": "#2a3f5f"
            },
            "error_y": {
             "color": "#2a3f5f"
            },
            "marker": {
             "line": {
              "color": "#E5ECF6",
              "width": 0.5
             }
            },
            "type": "bar"
           }
          ],
          "barpolar": [
           {
            "marker": {
             "line": {
              "color": "#E5ECF6",
              "width": 0.5
             }
            },
            "type": "barpolar"
           }
          ],
          "carpet": [
           {
            "aaxis": {
             "endlinecolor": "#2a3f5f",
             "gridcolor": "white",
             "linecolor": "white",
             "minorgridcolor": "white",
             "startlinecolor": "#2a3f5f"
            },
            "baxis": {
             "endlinecolor": "#2a3f5f",
             "gridcolor": "white",
             "linecolor": "white",
             "minorgridcolor": "white",
             "startlinecolor": "#2a3f5f"
            },
            "type": "carpet"
           }
          ],
          "choropleth": [
           {
            "colorbar": {
             "outlinewidth": 0,
             "ticks": ""
            },
            "type": "choropleth"
           }
          ],
          "contour": [
           {
            "colorbar": {
             "outlinewidth": 0,
             "ticks": ""
            },
            "colorscale": [
             [
              0,
              "#0d0887"
             ],
             [
              0.1111111111111111,
              "#46039f"
             ],
             [
              0.2222222222222222,
              "#7201a8"
             ],
             [
              0.3333333333333333,
              "#9c179e"
             ],
             [
              0.4444444444444444,
              "#bd3786"
             ],
             [
              0.5555555555555556,
              "#d8576b"
             ],
             [
              0.6666666666666666,
              "#ed7953"
             ],
             [
              0.7777777777777778,
              "#fb9f3a"
             ],
             [
              0.8888888888888888,
              "#fdca26"
             ],
             [
              1,
              "#f0f921"
             ]
            ],
            "type": "contour"
           }
          ],
          "contourcarpet": [
           {
            "colorbar": {
             "outlinewidth": 0,
             "ticks": ""
            },
            "type": "contourcarpet"
           }
          ],
          "heatmap": [
           {
            "colorbar": {
             "outlinewidth": 0,
             "ticks": ""
            },
            "colorscale": [
             [
              0,
              "#0d0887"
             ],
             [
              0.1111111111111111,
              "#46039f"
             ],
             [
              0.2222222222222222,
              "#7201a8"
             ],
             [
              0.3333333333333333,
              "#9c179e"
             ],
             [
              0.4444444444444444,
              "#bd3786"
             ],
             [
              0.5555555555555556,
              "#d8576b"
             ],
             [
              0.6666666666666666,
              "#ed7953"
             ],
             [
              0.7777777777777778,
              "#fb9f3a"
             ],
             [
              0.8888888888888888,
              "#fdca26"
             ],
             [
              1,
              "#f0f921"
             ]
            ],
            "type": "heatmap"
           }
          ],
          "heatmapgl": [
           {
            "colorbar": {
             "outlinewidth": 0,
             "ticks": ""
            },
            "colorscale": [
             [
              0,
              "#0d0887"
             ],
             [
              0.1111111111111111,
              "#46039f"
             ],
             [
              0.2222222222222222,
              "#7201a8"
             ],
             [
              0.3333333333333333,
              "#9c179e"
             ],
             [
              0.4444444444444444,
              "#bd3786"
             ],
             [
              0.5555555555555556,
              "#d8576b"
             ],
             [
              0.6666666666666666,
              "#ed7953"
             ],
             [
              0.7777777777777778,
              "#fb9f3a"
             ],
             [
              0.8888888888888888,
              "#fdca26"
             ],
             [
              1,
              "#f0f921"
             ]
            ],
            "type": "heatmapgl"
           }
          ],
          "histogram": [
           {
            "marker": {
             "colorbar": {
              "outlinewidth": 0,
              "ticks": ""
             }
            },
            "type": "histogram"
           }
          ],
          "histogram2d": [
           {
            "colorbar": {
             "outlinewidth": 0,
             "ticks": ""
            },
            "colorscale": [
             [
              0,
              "#0d0887"
             ],
             [
              0.1111111111111111,
              "#46039f"
             ],
             [
              0.2222222222222222,
              "#7201a8"
             ],
             [
              0.3333333333333333,
              "#9c179e"
             ],
             [
              0.4444444444444444,
              "#bd3786"
             ],
             [
              0.5555555555555556,
              "#d8576b"
             ],
             [
              0.6666666666666666,
              "#ed7953"
             ],
             [
              0.7777777777777778,
              "#fb9f3a"
             ],
             [
              0.8888888888888888,
              "#fdca26"
             ],
             [
              1,
              "#f0f921"
             ]
            ],
            "type": "histogram2d"
           }
          ],
          "histogram2dcontour": [
           {
            "colorbar": {
             "outlinewidth": 0,
             "ticks": ""
            },
            "colorscale": [
             [
              0,
              "#0d0887"
             ],
             [
              0.1111111111111111,
              "#46039f"
             ],
             [
              0.2222222222222222,
              "#7201a8"
             ],
             [
              0.3333333333333333,
              "#9c179e"
             ],
             [
              0.4444444444444444,
              "#bd3786"
             ],
             [
              0.5555555555555556,
              "#d8576b"
             ],
             [
              0.6666666666666666,
              "#ed7953"
             ],
             [
              0.7777777777777778,
              "#fb9f3a"
             ],
             [
              0.8888888888888888,
              "#fdca26"
             ],
             [
              1,
              "#f0f921"
             ]
            ],
            "type": "histogram2dcontour"
           }
          ],
          "mesh3d": [
           {
            "colorbar": {
             "outlinewidth": 0,
             "ticks": ""
            },
            "type": "mesh3d"
           }
          ],
          "parcoords": [
           {
            "line": {
             "colorbar": {
              "outlinewidth": 0,
              "ticks": ""
             }
            },
            "type": "parcoords"
           }
          ],
          "pie": [
           {
            "automargin": true,
            "type": "pie"
           }
          ],
          "scatter": [
           {
            "marker": {
             "colorbar": {
              "outlinewidth": 0,
              "ticks": ""
             }
            },
            "type": "scatter"
           }
          ],
          "scatter3d": [
           {
            "line": {
             "colorbar": {
              "outlinewidth": 0,
              "ticks": ""
             }
            },
            "marker": {
             "colorbar": {
              "outlinewidth": 0,
              "ticks": ""
             }
            },
            "type": "scatter3d"
           }
          ],
          "scattercarpet": [
           {
            "marker": {
             "colorbar": {
              "outlinewidth": 0,
              "ticks": ""
             }
            },
            "type": "scattercarpet"
           }
          ],
          "scattergeo": [
           {
            "marker": {
             "colorbar": {
              "outlinewidth": 0,
              "ticks": ""
             }
            },
            "type": "scattergeo"
           }
          ],
          "scattergl": [
           {
            "marker": {
             "colorbar": {
              "outlinewidth": 0,
              "ticks": ""
             }
            },
            "type": "scattergl"
           }
          ],
          "scattermapbox": [
           {
            "marker": {
             "colorbar": {
              "outlinewidth": 0,
              "ticks": ""
             }
            },
            "type": "scattermapbox"
           }
          ],
          "scatterpolar": [
           {
            "marker": {
             "colorbar": {
              "outlinewidth": 0,
              "ticks": ""
             }
            },
            "type": "scatterpolar"
           }
          ],
          "scatterpolargl": [
           {
            "marker": {
             "colorbar": {
              "outlinewidth": 0,
              "ticks": ""
             }
            },
            "type": "scatterpolargl"
           }
          ],
          "scatterternary": [
           {
            "marker": {
             "colorbar": {
              "outlinewidth": 0,
              "ticks": ""
             }
            },
            "type": "scatterternary"
           }
          ],
          "surface": [
           {
            "colorbar": {
             "outlinewidth": 0,
             "ticks": ""
            },
            "colorscale": [
             [
              0,
              "#0d0887"
             ],
             [
              0.1111111111111111,
              "#46039f"
             ],
             [
              0.2222222222222222,
              "#7201a8"
             ],
             [
              0.3333333333333333,
              "#9c179e"
             ],
             [
              0.4444444444444444,
              "#bd3786"
             ],
             [
              0.5555555555555556,
              "#d8576b"
             ],
             [
              0.6666666666666666,
              "#ed7953"
             ],
             [
              0.7777777777777778,
              "#fb9f3a"
             ],
             [
              0.8888888888888888,
              "#fdca26"
             ],
             [
              1,
              "#f0f921"
             ]
            ],
            "type": "surface"
           }
          ],
          "table": [
           {
            "cells": {
             "fill": {
              "color": "#EBF0F8"
             },
             "line": {
              "color": "white"
             }
            },
            "header": {
             "fill": {
              "color": "#C8D4E3"
             },
             "line": {
              "color": "white"
             }
            },
            "type": "table"
           }
          ]
         },
         "layout": {
          "annotationdefaults": {
           "arrowcolor": "#2a3f5f",
           "arrowhead": 0,
           "arrowwidth": 1
          },
          "autotypenumbers": "strict",
          "coloraxis": {
           "colorbar": {
            "outlinewidth": 0,
            "ticks": ""
           }
          },
          "colorscale": {
           "diverging": [
            [
             0,
             "#8e0152"
            ],
            [
             0.1,
             "#c51b7d"
            ],
            [
             0.2,
             "#de77ae"
            ],
            [
             0.3,
             "#f1b6da"
            ],
            [
             0.4,
             "#fde0ef"
            ],
            [
             0.5,
             "#f7f7f7"
            ],
            [
             0.6,
             "#e6f5d0"
            ],
            [
             0.7,
             "#b8e186"
            ],
            [
             0.8,
             "#7fbc41"
            ],
            [
             0.9,
             "#4d9221"
            ],
            [
             1,
             "#276419"
            ]
           ],
           "sequential": [
            [
             0,
             "#0d0887"
            ],
            [
             0.1111111111111111,
             "#46039f"
            ],
            [
             0.2222222222222222,
             "#7201a8"
            ],
            [
             0.3333333333333333,
             "#9c179e"
            ],
            [
             0.4444444444444444,
             "#bd3786"
            ],
            [
             0.5555555555555556,
             "#d8576b"
            ],
            [
             0.6666666666666666,
             "#ed7953"
            ],
            [
             0.7777777777777778,
             "#fb9f3a"
            ],
            [
             0.8888888888888888,
             "#fdca26"
            ],
            [
             1,
             "#f0f921"
            ]
           ],
           "sequentialminus": [
            [
             0,
             "#0d0887"
            ],
            [
             0.1111111111111111,
             "#46039f"
            ],
            [
             0.2222222222222222,
             "#7201a8"
            ],
            [
             0.3333333333333333,
             "#9c179e"
            ],
            [
             0.4444444444444444,
             "#bd3786"
            ],
            [
             0.5555555555555556,
             "#d8576b"
            ],
            [
             0.6666666666666666,
             "#ed7953"
            ],
            [
             0.7777777777777778,
             "#fb9f3a"
            ],
            [
             0.8888888888888888,
             "#fdca26"
            ],
            [
             1,
             "#f0f921"
            ]
           ]
          },
          "colorway": [
           "#636efa",
           "#EF553B",
           "#00cc96",
           "#ab63fa",
           "#FFA15A",
           "#19d3f3",
           "#FF6692",
           "#B6E880",
           "#FF97FF",
           "#FECB52"
          ],
          "font": {
           "color": "#2a3f5f"
          },
          "geo": {
           "bgcolor": "white",
           "lakecolor": "white",
           "landcolor": "#E5ECF6",
           "showlakes": true,
           "showland": true,
           "subunitcolor": "white"
          },
          "hoverlabel": {
           "align": "left"
          },
          "hovermode": "closest",
          "mapbox": {
           "style": "light"
          },
          "paper_bgcolor": "white",
          "plot_bgcolor": "#E5ECF6",
          "polar": {
           "angularaxis": {
            "gridcolor": "white",
            "linecolor": "white",
            "ticks": ""
           },
           "bgcolor": "#E5ECF6",
           "radialaxis": {
            "gridcolor": "white",
            "linecolor": "white",
            "ticks": ""
           }
          },
          "scene": {
           "xaxis": {
            "backgroundcolor": "#E5ECF6",
            "gridcolor": "white",
            "gridwidth": 2,
            "linecolor": "white",
            "showbackground": true,
            "ticks": "",
            "zerolinecolor": "white"
           },
           "yaxis": {
            "backgroundcolor": "#E5ECF6",
            "gridcolor": "white",
            "gridwidth": 2,
            "linecolor": "white",
            "showbackground": true,
            "ticks": "",
            "zerolinecolor": "white"
           },
           "zaxis": {
            "backgroundcolor": "#E5ECF6",
            "gridcolor": "white",
            "gridwidth": 2,
            "linecolor": "white",
            "showbackground": true,
            "ticks": "",
            "zerolinecolor": "white"
           }
          },
          "shapedefaults": {
           "line": {
            "color": "#2a3f5f"
           }
          },
          "ternary": {
           "aaxis": {
            "gridcolor": "white",
            "linecolor": "white",
            "ticks": ""
           },
           "baxis": {
            "gridcolor": "white",
            "linecolor": "white",
            "ticks": ""
           },
           "bgcolor": "#E5ECF6",
           "caxis": {
            "gridcolor": "white",
            "linecolor": "white",
            "ticks": ""
           }
          },
          "title": {
           "x": 0.05
          },
          "xaxis": {
           "automargin": true,
           "gridcolor": "white",
           "linecolor": "white",
           "ticks": "",
           "title": {
            "standoff": 15
           },
           "zerolinecolor": "white",
           "zerolinewidth": 2
          },
          "yaxis": {
           "automargin": true,
           "gridcolor": "white",
           "linecolor": "white",
           "ticks": "",
           "title": {
            "standoff": 15
           },
           "zerolinecolor": "white",
           "zerolinewidth": 2
          }
         }
        },
        "xaxis": {
         "anchor": "y",
         "domain": [
          0,
          1
         ],
         "title": {
          "text": "targetname"
         }
        },
        "yaxis": {
         "anchor": "x",
         "categoryarray": [
          "L20_leader",
          "T-box",
          "SAM",
          "Purine",
          "L10_leader"
         ],
         "categoryorder": "array",
         "domain": [
          0,
          1
         ],
         "title": {
          "text": "queryname"
         }
        }
       }
      },
      "text/html": [
       "<div>                            <div id=\"7c037de7-e4f0-4ed3-869c-71f579621667\" class=\"plotly-graph-div\" style=\"height:525px; width:100%;\"></div>            <script type=\"text/javascript\">                require([\"plotly\"], function(Plotly) {                    window.PLOTLYENV=window.PLOTLYENV || {};                                    if (document.getElementById(\"7c037de7-e4f0-4ed3-869c-71f579621667\")) {                    Plotly.newPlot(                        \"7c037de7-e4f0-4ed3-869c-71f579621667\",                        [{\"hovertemplate\": \"<b>%{hovertext}</b><br><br>queryname=%{y}<br>targetname=%{x}<br>freq=%{text}<extra></extra>\", \"hovertext\": [\"L10_leader\", \"L10_leader\", \"L10_leader\", \"L10_leader\", \"L10_leader\", \"L10_leader\", \"L10_leader\", \"L10_leader\", \"L10_leader\", \"L10_leader\", \"L10_leader\", \"L10_leader\", \"L10_leader\", \"L10_leader\", \"L10_leader\", \"L10_leader\"], \"legendgroup\": \"L10_leader\", \"marker\": {\"color\": \"#636efa\", \"size\": [1, 1, 1, 1, 1, 1, 1, 1, 1, 1, 1, 1, 1, 1, 1, 1], \"sizemode\": \"area\", \"sizeref\": 0.0425, \"symbol\": \"circle\"}, \"mode\": \"markers+text\", \"name\": \"L10_leader\", \"orientation\": \"v\", \"showlegend\": true, \"text\": [1.0, 1.0, 1.0, 1.0, 1.0, 1.0, 1.0, 1.0, 1.0, 1.0, 1.0, 1.0, 1.0, 1.0, 1.0, 1.0], \"type\": \"scatter\", \"x\": [\"E_acetylicum_DSM_20416\", \"E_antarcticum_dsm14480\", \"E_enclense_NIO-1109\", \"E_indicum_HHS_31\", \"E_marinum_DSM_16307\", \"E_oxidotolerans_JCM_12280\", \"E_profundum_PHM_11\", \"E_sibiricum_255-15\", \"E_sp_AT1b\", \"E_sp_MH3\", \"E_sp_U13-1\", \"E_sp_ZWU0009_fita\", \"Ealkaliphilum_12_1\", \"Eaurantiacum\", \"Echiriqhuca\", \"Emexicanum\"], \"xaxis\": \"x\", \"y\": [\"L10_leader\", \"L10_leader\", \"L10_leader\", \"L10_leader\", \"L10_leader\", \"L10_leader\", \"L10_leader\", \"L10_leader\", \"L10_leader\", \"L10_leader\", \"L10_leader\", \"L10_leader\", \"L10_leader\", \"L10_leader\", \"L10_leader\", \"L10_leader\"], \"yaxis\": \"y\"}, {\"hovertemplate\": \"<b>%{hovertext}</b><br><br>queryname=%{y}<br>targetname=%{x}<br>freq=%{text}<extra></extra>\", \"hovertext\": [\"Purine\", \"Purine\", \"Purine\", \"Purine\", \"Purine\", \"Purine\", \"Purine\", \"Purine\", \"Purine\", \"Purine\", \"Purine\", \"Purine\", \"Purine\", \"Purine\", \"Purine\", \"Purine\"], \"legendgroup\": \"Purine\", \"marker\": {\"color\": \"#EF553B\", \"size\": [4, 5, 4, 4, 4, 4, 4, 4, 4, 4, 4, 4, 6, 4, 4, 4], \"sizemode\": \"area\", \"sizeref\": 0.0425, \"symbol\": \"circle\"}, \"mode\": \"markers+text\", \"name\": \"Purine\", \"orientation\": \"v\", \"showlegend\": true, \"text\": [4.0, 5.0, 4.0, 4.0, 4.0, 4.0, 4.0, 4.0, 4.0, 4.0, 4.0, 4.0, 6.0, 4.0, 4.0, 4.0], \"type\": \"scatter\", \"x\": [\"E_acetylicum_DSM_20416\", \"E_antarcticum_dsm14480\", \"E_enclense_NIO-1109\", \"E_indicum_HHS_31\", \"E_marinum_DSM_16307\", \"E_oxidotolerans_JCM_12280\", \"E_profundum_PHM_11\", \"E_sibiricum_255-15\", \"E_sp_AT1b\", \"E_sp_MH3\", \"E_sp_U13-1\", \"E_sp_ZWU0009_fita\", \"Ealkaliphilum_12_1\", \"Eaurantiacum\", \"Echiriqhuca\", \"Emexicanum\"], \"xaxis\": \"x\", \"y\": [\"Purine\", \"Purine\", \"Purine\", \"Purine\", \"Purine\", \"Purine\", \"Purine\", \"Purine\", \"Purine\", \"Purine\", \"Purine\", \"Purine\", \"Purine\", \"Purine\", \"Purine\", \"Purine\"], \"yaxis\": \"y\"}, {\"hovertemplate\": \"<b>%{hovertext}</b><br><br>queryname=%{y}<br>targetname=%{x}<br>freq=%{text}<extra></extra>\", \"hovertext\": [\"SAM\", \"SAM\", \"SAM\", \"SAM\", \"SAM\", \"SAM\", \"SAM\", \"SAM\", \"SAM\", \"SAM\", \"SAM\", \"SAM\", \"SAM\", \"SAM\", \"SAM\", \"SAM\"], \"legendgroup\": \"SAM\", \"marker\": {\"color\": \"#00cc96\", \"size\": [11, 11, 11, 11, 4, 9, 8, 11, 8, 11, 11, 11, 9, 8, 9, 8], \"sizemode\": \"area\", \"sizeref\": 0.0425, \"symbol\": \"circle\"}, \"mode\": \"markers+text\", \"name\": \"SAM\", \"orientation\": \"v\", \"showlegend\": true, \"text\": [11.0, 11.0, 11.0, 11.0, 4.0, 9.0, 8.0, 11.0, 8.0, 11.0, 11.0, 11.0, 9.0, 8.0, 9.0, 8.0], \"type\": \"scatter\", \"x\": [\"E_acetylicum_DSM_20416\", \"E_antarcticum_dsm14480\", \"E_enclense_NIO-1109\", \"E_indicum_HHS_31\", \"E_marinum_DSM_16307\", \"E_oxidotolerans_JCM_12280\", \"E_profundum_PHM_11\", \"E_sibiricum_255-15\", \"E_sp_AT1b\", \"E_sp_MH3\", \"E_sp_U13-1\", \"E_sp_ZWU0009_fita\", \"Ealkaliphilum_12_1\", \"Eaurantiacum\", \"Echiriqhuca\", \"Emexicanum\"], \"xaxis\": \"x\", \"y\": [\"SAM\", \"SAM\", \"SAM\", \"SAM\", \"SAM\", \"SAM\", \"SAM\", \"SAM\", \"SAM\", \"SAM\", \"SAM\", \"SAM\", \"SAM\", \"SAM\", \"SAM\", \"SAM\"], \"yaxis\": \"y\"}, {\"hovertemplate\": \"<b>%{hovertext}</b><br><br>queryname=%{y}<br>targetname=%{x}<br>freq=%{text}<extra></extra>\", \"hovertext\": [\"T-box\", \"T-box\", \"T-box\", \"T-box\", \"T-box\", \"T-box\", \"T-box\", \"T-box\", \"T-box\", \"T-box\", \"T-box\", \"T-box\", \"T-box\", \"T-box\", \"T-box\", \"T-box\"], \"legendgroup\": \"T-box\", \"marker\": {\"color\": \"#ab63fa\", \"size\": [17, 14, 16, 16, 16, 12, 15, 13, 16, 17, 17, 16, 13, 13, 13, 13], \"sizemode\": \"area\", \"sizeref\": 0.0425, \"symbol\": \"circle\"}, \"mode\": \"markers+text\", \"name\": \"T-box\", \"orientation\": \"v\", \"showlegend\": true, \"text\": [17.0, 14.0, 16.0, 16.0, 16.0, 12.0, 15.0, 13.0, 16.0, 17.0, 17.0, 16.0, 13.0, 13.0, 13.0, 13.0], \"type\": \"scatter\", \"x\": [\"E_acetylicum_DSM_20416\", \"E_antarcticum_dsm14480\", \"E_enclense_NIO-1109\", \"E_indicum_HHS_31\", \"E_marinum_DSM_16307\", \"E_oxidotolerans_JCM_12280\", \"E_profundum_PHM_11\", \"E_sibiricum_255-15\", \"E_sp_AT1b\", \"E_sp_MH3\", \"E_sp_U13-1\", \"E_sp_ZWU0009_fita\", \"Ealkaliphilum_12_1\", \"Eaurantiacum\", \"Echiriqhuca\", \"Emexicanum\"], \"xaxis\": \"x\", \"y\": [\"T-box\", \"T-box\", \"T-box\", \"T-box\", \"T-box\", \"T-box\", \"T-box\", \"T-box\", \"T-box\", \"T-box\", \"T-box\", \"T-box\", \"T-box\", \"T-box\", \"T-box\", \"T-box\"], \"yaxis\": \"y\"}, {\"hovertemplate\": \"<b>%{hovertext}</b><br><br>queryname=%{y}<br>targetname=%{x}<br>freq=%{text}<extra></extra>\", \"hovertext\": [\"L20_leader\", \"L20_leader\", \"L20_leader\", \"L20_leader\", \"L20_leader\", \"L20_leader\", \"L20_leader\"], \"legendgroup\": \"L20_leader\", \"marker\": {\"color\": \"#FFA15A\", \"size\": [1, 1, 1, 1, 1, 1, 1], \"sizemode\": \"area\", \"sizeref\": 0.0425, \"symbol\": \"circle\"}, \"mode\": \"markers+text\", \"name\": \"L20_leader\", \"orientation\": \"v\", \"showlegend\": true, \"text\": [1.0, 1.0, 1.0, 1.0, 1.0, 1.0, 1.0], \"type\": \"scatter\", \"x\": [\"E_antarcticum_dsm14480\", \"E_oxidotolerans_JCM_12280\", \"E_sibiricum_255-15\", \"Ealkaliphilum_12_1\", \"Eaurantiacum\", \"Echiriqhuca\", \"Emexicanum\"], \"xaxis\": \"x\", \"y\": [\"L20_leader\", \"L20_leader\", \"L20_leader\", \"L20_leader\", \"L20_leader\", \"L20_leader\", \"L20_leader\"], \"yaxis\": \"y\"}],                        {\"legend\": {\"itemsizing\": \"constant\", \"title\": {\"text\": \"queryname\"}, \"tracegroupgap\": 0}, \"margin\": {\"t\": 60}, \"template\": {\"data\": {\"bar\": [{\"error_x\": {\"color\": \"#2a3f5f\"}, \"error_y\": {\"color\": \"#2a3f5f\"}, \"marker\": {\"line\": {\"color\": \"#E5ECF6\", \"width\": 0.5}}, \"type\": \"bar\"}], \"barpolar\": [{\"marker\": {\"line\": {\"color\": \"#E5ECF6\", \"width\": 0.5}}, \"type\": \"barpolar\"}], \"carpet\": [{\"aaxis\": {\"endlinecolor\": \"#2a3f5f\", \"gridcolor\": \"white\", \"linecolor\": \"white\", \"minorgridcolor\": \"white\", \"startlinecolor\": \"#2a3f5f\"}, \"baxis\": {\"endlinecolor\": \"#2a3f5f\", \"gridcolor\": \"white\", \"linecolor\": \"white\", \"minorgridcolor\": \"white\", \"startlinecolor\": \"#2a3f5f\"}, \"type\": \"carpet\"}], \"choropleth\": [{\"colorbar\": {\"outlinewidth\": 0, \"ticks\": \"\"}, \"type\": \"choropleth\"}], \"contour\": [{\"colorbar\": {\"outlinewidth\": 0, \"ticks\": \"\"}, \"colorscale\": [[0.0, \"#0d0887\"], [0.1111111111111111, \"#46039f\"], [0.2222222222222222, \"#7201a8\"], [0.3333333333333333, \"#9c179e\"], [0.4444444444444444, \"#bd3786\"], [0.5555555555555556, \"#d8576b\"], [0.6666666666666666, \"#ed7953\"], [0.7777777777777778, \"#fb9f3a\"], [0.8888888888888888, \"#fdca26\"], [1.0, \"#f0f921\"]], \"type\": \"contour\"}], \"contourcarpet\": [{\"colorbar\": {\"outlinewidth\": 0, \"ticks\": \"\"}, \"type\": \"contourcarpet\"}], \"heatmap\": [{\"colorbar\": {\"outlinewidth\": 0, \"ticks\": \"\"}, \"colorscale\": [[0.0, \"#0d0887\"], [0.1111111111111111, \"#46039f\"], [0.2222222222222222, \"#7201a8\"], [0.3333333333333333, \"#9c179e\"], [0.4444444444444444, \"#bd3786\"], [0.5555555555555556, \"#d8576b\"], [0.6666666666666666, \"#ed7953\"], [0.7777777777777778, \"#fb9f3a\"], [0.8888888888888888, \"#fdca26\"], [1.0, \"#f0f921\"]], \"type\": \"heatmap\"}], \"heatmapgl\": [{\"colorbar\": {\"outlinewidth\": 0, \"ticks\": \"\"}, \"colorscale\": [[0.0, \"#0d0887\"], [0.1111111111111111, \"#46039f\"], [0.2222222222222222, \"#7201a8\"], [0.3333333333333333, \"#9c179e\"], [0.4444444444444444, \"#bd3786\"], [0.5555555555555556, \"#d8576b\"], [0.6666666666666666, \"#ed7953\"], [0.7777777777777778, \"#fb9f3a\"], [0.8888888888888888, \"#fdca26\"], [1.0, \"#f0f921\"]], \"type\": \"heatmapgl\"}], \"histogram\": [{\"marker\": {\"colorbar\": {\"outlinewidth\": 0, \"ticks\": \"\"}}, \"type\": \"histogram\"}], \"histogram2d\": [{\"colorbar\": {\"outlinewidth\": 0, \"ticks\": \"\"}, \"colorscale\": [[0.0, \"#0d0887\"], [0.1111111111111111, \"#46039f\"], [0.2222222222222222, \"#7201a8\"], [0.3333333333333333, \"#9c179e\"], [0.4444444444444444, \"#bd3786\"], [0.5555555555555556, \"#d8576b\"], [0.6666666666666666, \"#ed7953\"], [0.7777777777777778, \"#fb9f3a\"], [0.8888888888888888, \"#fdca26\"], [1.0, \"#f0f921\"]], \"type\": \"histogram2d\"}], \"histogram2dcontour\": [{\"colorbar\": {\"outlinewidth\": 0, \"ticks\": \"\"}, \"colorscale\": [[0.0, \"#0d0887\"], [0.1111111111111111, \"#46039f\"], [0.2222222222222222, \"#7201a8\"], [0.3333333333333333, \"#9c179e\"], [0.4444444444444444, \"#bd3786\"], [0.5555555555555556, \"#d8576b\"], [0.6666666666666666, \"#ed7953\"], [0.7777777777777778, \"#fb9f3a\"], [0.8888888888888888, \"#fdca26\"], [1.0, \"#f0f921\"]], \"type\": \"histogram2dcontour\"}], \"mesh3d\": [{\"colorbar\": {\"outlinewidth\": 0, \"ticks\": \"\"}, \"type\": \"mesh3d\"}], \"parcoords\": [{\"line\": {\"colorbar\": {\"outlinewidth\": 0, \"ticks\": \"\"}}, \"type\": \"parcoords\"}], \"pie\": [{\"automargin\": true, \"type\": \"pie\"}], \"scatter\": [{\"marker\": {\"colorbar\": {\"outlinewidth\": 0, \"ticks\": \"\"}}, \"type\": \"scatter\"}], \"scatter3d\": [{\"line\": {\"colorbar\": {\"outlinewidth\": 0, \"ticks\": \"\"}}, \"marker\": {\"colorbar\": {\"outlinewidth\": 0, \"ticks\": \"\"}}, \"type\": \"scatter3d\"}], \"scattercarpet\": [{\"marker\": {\"colorbar\": {\"outlinewidth\": 0, \"ticks\": \"\"}}, \"type\": \"scattercarpet\"}], \"scattergeo\": [{\"marker\": {\"colorbar\": {\"outlinewidth\": 0, \"ticks\": \"\"}}, \"type\": \"scattergeo\"}], \"scattergl\": [{\"marker\": {\"colorbar\": {\"outlinewidth\": 0, \"ticks\": \"\"}}, \"type\": \"scattergl\"}], \"scattermapbox\": [{\"marker\": {\"colorbar\": {\"outlinewidth\": 0, \"ticks\": \"\"}}, \"type\": \"scattermapbox\"}], \"scatterpolar\": [{\"marker\": {\"colorbar\": {\"outlinewidth\": 0, \"ticks\": \"\"}}, \"type\": \"scatterpolar\"}], \"scatterpolargl\": [{\"marker\": {\"colorbar\": {\"outlinewidth\": 0, \"ticks\": \"\"}}, \"type\": \"scatterpolargl\"}], \"scatterternary\": [{\"marker\": {\"colorbar\": {\"outlinewidth\": 0, \"ticks\": \"\"}}, \"type\": \"scatterternary\"}], \"surface\": [{\"colorbar\": {\"outlinewidth\": 0, \"ticks\": \"\"}, \"colorscale\": [[0.0, \"#0d0887\"], [0.1111111111111111, \"#46039f\"], [0.2222222222222222, \"#7201a8\"], [0.3333333333333333, \"#9c179e\"], [0.4444444444444444, \"#bd3786\"], [0.5555555555555556, \"#d8576b\"], [0.6666666666666666, \"#ed7953\"], [0.7777777777777778, \"#fb9f3a\"], [0.8888888888888888, \"#fdca26\"], [1.0, \"#f0f921\"]], \"type\": \"surface\"}], \"table\": [{\"cells\": {\"fill\": {\"color\": \"#EBF0F8\"}, \"line\": {\"color\": \"white\"}}, \"header\": {\"fill\": {\"color\": \"#C8D4E3\"}, \"line\": {\"color\": \"white\"}}, \"type\": \"table\"}]}, \"layout\": {\"annotationdefaults\": {\"arrowcolor\": \"#2a3f5f\", \"arrowhead\": 0, \"arrowwidth\": 1}, \"autotypenumbers\": \"strict\", \"coloraxis\": {\"colorbar\": {\"outlinewidth\": 0, \"ticks\": \"\"}}, \"colorscale\": {\"diverging\": [[0, \"#8e0152\"], [0.1, \"#c51b7d\"], [0.2, \"#de77ae\"], [0.3, \"#f1b6da\"], [0.4, \"#fde0ef\"], [0.5, \"#f7f7f7\"], [0.6, \"#e6f5d0\"], [0.7, \"#b8e186\"], [0.8, \"#7fbc41\"], [0.9, \"#4d9221\"], [1, \"#276419\"]], \"sequential\": [[0.0, \"#0d0887\"], [0.1111111111111111, \"#46039f\"], [0.2222222222222222, \"#7201a8\"], [0.3333333333333333, \"#9c179e\"], [0.4444444444444444, \"#bd3786\"], [0.5555555555555556, \"#d8576b\"], [0.6666666666666666, \"#ed7953\"], [0.7777777777777778, \"#fb9f3a\"], [0.8888888888888888, \"#fdca26\"], [1.0, \"#f0f921\"]], \"sequentialminus\": [[0.0, \"#0d0887\"], [0.1111111111111111, \"#46039f\"], [0.2222222222222222, \"#7201a8\"], [0.3333333333333333, \"#9c179e\"], [0.4444444444444444, \"#bd3786\"], [0.5555555555555556, \"#d8576b\"], [0.6666666666666666, \"#ed7953\"], [0.7777777777777778, \"#fb9f3a\"], [0.8888888888888888, \"#fdca26\"], [1.0, \"#f0f921\"]]}, \"colorway\": [\"#636efa\", \"#EF553B\", \"#00cc96\", \"#ab63fa\", \"#FFA15A\", \"#19d3f3\", \"#FF6692\", \"#B6E880\", \"#FF97FF\", \"#FECB52\"], \"font\": {\"color\": \"#2a3f5f\"}, \"geo\": {\"bgcolor\": \"white\", \"lakecolor\": \"white\", \"landcolor\": \"#E5ECF6\", \"showlakes\": true, \"showland\": true, \"subunitcolor\": \"white\"}, \"hoverlabel\": {\"align\": \"left\"}, \"hovermode\": \"closest\", \"mapbox\": {\"style\": \"light\"}, \"paper_bgcolor\": \"white\", \"plot_bgcolor\": \"#E5ECF6\", \"polar\": {\"angularaxis\": {\"gridcolor\": \"white\", \"linecolor\": \"white\", \"ticks\": \"\"}, \"bgcolor\": \"#E5ECF6\", \"radialaxis\": {\"gridcolor\": \"white\", \"linecolor\": \"white\", \"ticks\": \"\"}}, \"scene\": {\"xaxis\": {\"backgroundcolor\": \"#E5ECF6\", \"gridcolor\": \"white\", \"gridwidth\": 2, \"linecolor\": \"white\", \"showbackground\": true, \"ticks\": \"\", \"zerolinecolor\": \"white\"}, \"yaxis\": {\"backgroundcolor\": \"#E5ECF6\", \"gridcolor\": \"white\", \"gridwidth\": 2, \"linecolor\": \"white\", \"showbackground\": true, \"ticks\": \"\", \"zerolinecolor\": \"white\"}, \"zaxis\": {\"backgroundcolor\": \"#E5ECF6\", \"gridcolor\": \"white\", \"gridwidth\": 2, \"linecolor\": \"white\", \"showbackground\": true, \"ticks\": \"\", \"zerolinecolor\": \"white\"}}, \"shapedefaults\": {\"line\": {\"color\": \"#2a3f5f\"}}, \"ternary\": {\"aaxis\": {\"gridcolor\": \"white\", \"linecolor\": \"white\", \"ticks\": \"\"}, \"baxis\": {\"gridcolor\": \"white\", \"linecolor\": \"white\", \"ticks\": \"\"}, \"bgcolor\": \"#E5ECF6\", \"caxis\": {\"gridcolor\": \"white\", \"linecolor\": \"white\", \"ticks\": \"\"}}, \"title\": {\"x\": 0.05}, \"xaxis\": {\"automargin\": true, \"gridcolor\": \"white\", \"linecolor\": \"white\", \"ticks\": \"\", \"title\": {\"standoff\": 15}, \"zerolinecolor\": \"white\", \"zerolinewidth\": 2}, \"yaxis\": {\"automargin\": true, \"gridcolor\": \"white\", \"linecolor\": \"white\", \"ticks\": \"\", \"title\": {\"standoff\": 15}, \"zerolinecolor\": \"white\", \"zerolinewidth\": 2}}}, \"xaxis\": {\"anchor\": \"y\", \"domain\": [0.0, 1.0], \"title\": {\"text\": \"targetname\"}}, \"yaxis\": {\"anchor\": \"x\", \"categoryarray\": [\"L20_leader\", \"T-box\", \"SAM\", \"Purine\", \"L10_leader\"], \"categoryorder\": \"array\", \"domain\": [0.0, 1.0], \"title\": {\"text\": \"queryname\"}}},                        {\"responsive\": true}                    ).then(function(){\n",
       "                            \n",
       "var gd = document.getElementById('7c037de7-e4f0-4ed3-869c-71f579621667');\n",
       "var x = new MutationObserver(function (mutations, observer) {{\n",
       "        var display = window.getComputedStyle(gd).display;\n",
       "        if (!display || display === 'none') {{\n",
       "            console.log([gd, 'removed!']);\n",
       "            Plotly.purge(gd);\n",
       "            observer.disconnect();\n",
       "        }}\n",
       "}});\n",
       "\n",
       "// Listen for the removal of the full notebook cells\n",
       "var notebookContainer = gd.closest('#notebook-container');\n",
       "if (notebookContainer) {{\n",
       "    x.observe(notebookContainer, {childList: true});\n",
       "}}\n",
       "\n",
       "// Listen for the clearing of the current output cell\n",
       "var outputEl = gd.closest('.output');\n",
       "if (outputEl) {{\n",
       "    x.observe(outputEl, {childList: true});\n",
       "}}\n",
       "\n",
       "                        })                };                });            </script>        </div>"
      ]
     },
     "metadata": {},
     "output_type": "display_data"
    }
   ],
   "source": [
    "fig2.show()"
   ]
  },
  {
   "cell_type": "code",
   "execution_count": null,
   "id": "valid-prague",
   "metadata": {},
   "outputs": [],
   "source": []
  }
 ],
 "metadata": {
  "kernelspec": {
   "display_name": "Python 3",
   "language": "python",
   "name": "python3"
  },
  "language_info": {
   "codemirror_mode": {
    "name": "ipython",
    "version": 3
   },
   "file_extension": ".py",
   "mimetype": "text/x-python",
   "name": "python",
   "nbconvert_exporter": "python",
   "pygments_lexer": "ipython3",
   "version": "3.8.5"
  }
 },
 "nbformat": 4,
 "nbformat_minor": 5
}
